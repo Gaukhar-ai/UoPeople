{
  "nbformat": 4,
  "nbformat_minor": 0,
  "metadata": {
    "colab": {
      "name": "Nesting - a list of dictionaries.ipynb",
      "provenance": [],
      "authorship_tag": "ABX9TyN6UdhOwXsWDq5Unmw+zOEH",
      "include_colab_link": true
    },
    "kernelspec": {
      "name": "python3",
      "display_name": "Python 3"
    },
    "language_info": {
      "name": "python"
    }
  },
  "cells": [
    {
      "cell_type": "markdown",
      "metadata": {
        "id": "view-in-github",
        "colab_type": "text"
      },
      "source": [
        "<a href=\"https://colab.research.google.com/github/Gaukhar-ai/UoPeople/blob/main/Nesting_a_list_of_dictionaries.ipynb\" target=\"_parent\"><img src=\"https://colab.research.google.com/assets/colab-badge.svg\" alt=\"Open In Colab\"/></a>"
      ]
    },
    {
      "cell_type": "markdown",
      "metadata": {
        "id": "Z6xom61z0CPg"
      },
      "source": [
        "Set of dictionaires in a list - nesting"
      ]
    },
    {
      "cell_type": "code",
      "metadata": {
        "id": "NhZCd_SAz_Cn"
      },
      "source": [
        "#start with an empty list\n",
        "users = []\n",
        "\n",
        "#make a new user and add them to the list.\n",
        "new_user = {\n",
        "    'last': 'fermi',\n",
        "    'first': 'enrico',\n",
        "    'username': 'efermi',\n",
        "}\n",
        "users.append(new_user)"
      ],
      "execution_count": 1,
      "outputs": []
    },
    {
      "cell_type": "code",
      "metadata": {
        "colab": {
          "base_uri": "https://localhost:8080/"
        },
        "id": "a816cW6c0rvy",
        "outputId": "aba0e3e3-1b31-4d79-ee40-da82a6e5622d"
      },
      "source": [
        "users"
      ],
      "execution_count": 2,
      "outputs": [
        {
          "output_type": "execute_result",
          "data": {
            "text/plain": [
              "[{'first': 'enrico', 'last': 'fermi', 'username': 'efermi'}]"
            ]
          },
          "metadata": {
            "tags": []
          },
          "execution_count": 2
        }
      ]
    },
    {
      "cell_type": "code",
      "metadata": {
        "id": "eQDsTb7P0vR_"
      },
      "source": [
        "#another new user, add them \n",
        "new_user ={\n",
        "    'last': 'curie',\n",
        "    'first': 'marie',\n",
        "    'username': 'michael'\n",
        "}\n",
        "users.append(new_user)"
      ],
      "execution_count": 3,
      "outputs": []
    },
    {
      "cell_type": "code",
      "metadata": {
        "colab": {
          "base_uri": "https://localhost:8080/"
        },
        "id": "2plEMIip1B7r",
        "outputId": "8bedb93b-bfd1-4af0-963f-15d73e5b2b6a"
      },
      "source": [
        "users"
      ],
      "execution_count": 4,
      "outputs": [
        {
          "output_type": "execute_result",
          "data": {
            "text/plain": [
              "[{'first': 'enrico', 'last': 'fermi', 'username': 'efermi'},\n",
              " {'first': 'marie', 'last': 'curie', 'username': 'michael'}]"
            ]
          },
          "metadata": {
            "tags": []
          },
          "execution_count": 4
        }
      ]
    },
    {
      "cell_type": "code",
      "metadata": {
        "colab": {
          "base_uri": "https://localhost:8080/"
        },
        "id": "Ey6W21dD1DWP",
        "outputId": "2f50170d-4952-49e8-f015-cdb9d3a6a738"
      },
      "source": [
        "#show all info about each user\n",
        "for user_dict in users:\n",
        "  for k, v in user_dict.items():\n",
        "    print(k + ': ' + v)\n",
        "    print('\\n')"
      ],
      "execution_count": 5,
      "outputs": [
        {
          "output_type": "stream",
          "text": [
            "last: fermi\n",
            "\n",
            "\n",
            "first: enrico\n",
            "\n",
            "\n",
            "username: efermi\n",
            "\n",
            "\n",
            "last: curie\n",
            "\n",
            "\n",
            "first: marie\n",
            "\n",
            "\n",
            "username: michael\n",
            "\n",
            "\n"
          ],
          "name": "stdout"
        }
      ]
    },
    {
      "cell_type": "code",
      "metadata": {
        "id": "P4qir1b31fI2"
      },
      "source": [
        "#can also define the list of dictionairies directly, without using append():\n",
        "#define a list of users, where each user is represented by a dict, \n",
        "users = [\n",
        "         {'last': 'fermi', \n",
        "          'first': 'aba',\n",
        "          'username': 'ben',\n",
        "          },\n",
        "         {'last': 'curies',\n",
        "          'first': 'marie',\n",
        "          'username': 'ccurie'\n",
        "          },\n",
        "]"
      ],
      "execution_count": 6,
      "outputs": []
    },
    {
      "cell_type": "code",
      "metadata": {
        "colab": {
          "base_uri": "https://localhost:8080/"
        },
        "id": "GHbMoQyZ2QZ2",
        "outputId": "bdb4de35-5df2-4fcf-e499-1f5d9b2d79ff"
      },
      "source": [
        "users"
      ],
      "execution_count": 7,
      "outputs": [
        {
          "output_type": "execute_result",
          "data": {
            "text/plain": [
              "[{'first': 'aba', 'last': 'fermi', 'username': 'ben'},\n",
              " {'first': 'marie', 'last': 'curies', 'username': 'ccurie'}]"
            ]
          },
          "metadata": {
            "tags": []
          },
          "execution_count": 7
        }
      ]
    },
    {
      "cell_type": "code",
      "metadata": {
        "colab": {
          "base_uri": "https://localhost:8080/"
        },
        "id": "vA9aMLlz2SYC",
        "outputId": "8c6d856b-fe0f-4ca1-f986-0eae59e1d92c"
      },
      "source": [
        "#show all the info about each user:\n",
        "for user_dict in users:\n",
        "  for k, v in user_dict.items():\n",
        "    print(k + ': ' + v)\n",
        "    print('\\n')"
      ],
      "execution_count": 10,
      "outputs": [
        {
          "output_type": "stream",
          "text": [
            "last: fermi\n",
            "\n",
            "\n",
            "first: aba\n",
            "\n",
            "\n",
            "username: ben\n",
            "\n",
            "\n",
            "last: curies\n",
            "\n",
            "\n",
            "first: marie\n",
            "\n",
            "\n",
            "username: ccurie\n",
            "\n",
            "\n"
          ],
          "name": "stdout"
        }
      ]
    },
    {
      "cell_type": "code",
      "metadata": {
        "id": "UluHDbjb2jjJ"
      },
      "source": [
        "#nesting - lists in a dictionary\n",
        "#storing a list inside a dic alows  you to associate more than one value with each key. \n",
        "#store multiple languages for each person. \n",
        "fav_languages = {\n",
        "    'jen': ['python', 'ruby'],\n",
        "    'sahar': ['c'],\n",
        "    'edward': ['ruby', 'go'],\n",
        "    'phil': ['python', 'haskell'],\n",
        "}"
      ],
      "execution_count": 11,
      "outputs": []
    },
    {
      "cell_type": "code",
      "metadata": {
        "colab": {
          "base_uri": "https://localhost:8080/"
        },
        "id": "LzQVkvjm3RHq",
        "outputId": "9c46a4c5-a79d-4f7c-9c41-13c15b0feb24"
      },
      "source": [
        "fav_languages"
      ],
      "execution_count": 12,
      "outputs": [
        {
          "output_type": "execute_result",
          "data": {
            "text/plain": [
              "{'edward': ['ruby', 'go'],\n",
              " 'jen': ['python', 'ruby'],\n",
              " 'phil': ['python', 'haskell'],\n",
              " 'sahar': ['c']}"
            ]
          },
          "metadata": {
            "tags": []
          },
          "execution_count": 12
        }
      ]
    },
    {
      "cell_type": "code",
      "metadata": {
        "colab": {
          "base_uri": "https://localhost:8080/"
        },
        "id": "qBJ34ReG3R14",
        "outputId": "64715502-d144-4242-bfef-550a38ad5db8"
      },
      "source": [
        "#show all the responses for each person.\n",
        "for name, langs in fav_languages.items():\n",
        "  print(name  +  ': ')\n",
        "  for lang in langs:\n",
        "    print('- ' + lang)"
      ],
      "execution_count": 13,
      "outputs": [
        {
          "output_type": "stream",
          "text": [
            "jen: \n",
            "- python\n",
            "- ruby\n",
            "sahar: \n",
            "- c\n",
            "edward: \n",
            "- ruby\n",
            "- go\n",
            "phil: \n",
            "- python\n",
            "- haskell\n"
          ],
          "name": "stdout"
        }
      ]
    },
    {
      "cell_type": "code",
      "metadata": {
        "id": "FuW2ed6_3iO3"
      },
      "source": [
        "#nesting - a dictionary of dictionaries. \n",
        "#can store  dic inside another dict. \n",
        "users = {\n",
        "    'ainstain': {\n",
        "        'first': 'albert', \n",
        "        'last': 'einstein',\n",
        "        'location': 'princeton',\n",
        "    },\n",
        "    'mcurie': {\n",
        "        'first': 'marie',\n",
        "        'last': 'mcurie',\n",
        "        'location': 'paris'\n",
        "    },\n",
        "}"
      ],
      "execution_count": 14,
      "outputs": []
    },
    {
      "cell_type": "code",
      "metadata": {
        "colab": {
          "base_uri": "https://localhost:8080/"
        },
        "id": "GN8-77j44Y8A",
        "outputId": "d9b862c5-4e1c-435f-b5d8-d270233e9ff4"
      },
      "source": [
        "users"
      ],
      "execution_count": 15,
      "outputs": [
        {
          "output_type": "execute_result",
          "data": {
            "text/plain": [
              "{'ainstain': {'first': 'albert', 'last': 'einstein', 'location': 'princeton'},\n",
              " 'mcurie': {'first': 'marie', 'last': 'mcurie', 'location': 'paris'}}"
            ]
          },
          "metadata": {
            "tags": []
          },
          "execution_count": 15
        }
      ]
    },
    {
      "cell_type": "code",
      "metadata": {
        "colab": {
          "base_uri": "https://localhost:8080/"
        },
        "id": "QJMeV-Nz4ZqO",
        "outputId": "953f74a3-2fb8-4c79-da3f-0f4ea9ee41c1"
      },
      "source": [
        "for username, user_dict in users.items():\n",
        "  print('\\nUsername: ' + username)\n",
        "  full_name = user_dict['first'] + \" \"\n",
        "  full_name += user_dict['last']\n",
        "  location = user_dict['location']\n",
        "\n",
        "  print('\\tFull name: ' + full_name.title())\n",
        "  print('\\tLocation:' + location.title())"
      ],
      "execution_count": 17,
      "outputs": [
        {
          "output_type": "stream",
          "text": [
            "\n",
            "Username: ainstain\n",
            "\tFull name: Albert Einstein\n",
            "\tLocation:Princeton\n",
            "\n",
            "Username: mcurie\n",
            "\tFull name: Marie Mcurie\n",
            "\tLocation:Paris\n"
          ],
          "name": "stdout"
        }
      ]
    },
    {
      "cell_type": "code",
      "metadata": {
        "id": "41cpMSPx5EnZ"
      },
      "source": [
        "#levels of nesting\n",
        "#if nesting gets overcomplex use classes.\n",
        "\n",
        "#using an orderddict\n",
        "#To keep the order in dictionary use OrderDict\n",
        "\n",
        "from collections import OrderedDict"
      ],
      "execution_count": 20,
      "outputs": []
    },
    {
      "cell_type": "code",
      "metadata": {
        "colab": {
          "base_uri": "https://localhost:8080/"
        },
        "id": "0POvZtvL6EzU",
        "outputId": "3a4adecc-16ff-40b4-9325-5729953bbbd9"
      },
      "source": [
        "#store each person's languages, keeping track of who responded first.\n",
        "fav_languages = OrderedDict()\n",
        "\n",
        "fav_languages['jen'] = ['python', 'ruby']\n",
        "fav_languages['sarah'] = ['c']\n",
        "fav_languages['edward'] = ['ruby', 'go']\n",
        "fav_languages['phill'] = ['python', 'haskell']\n",
        "\n",
        "#display the results, in the same order they were entered\n",
        "for name, langs in fav_languages.items():\n",
        "  print(name + ':')\n",
        "  for lang in langs:\n",
        "    print('- ' + lang)"
      ],
      "execution_count": 21,
      "outputs": [
        {
          "output_type": "stream",
          "text": [
            "jen:\n",
            "- python\n",
            "- ruby\n",
            "sarah:\n",
            "- c\n",
            "edward:\n",
            "- ruby\n",
            "- go\n",
            "phill:\n",
            "- python\n",
            "- haskell\n"
          ],
          "name": "stdout"
        }
      ]
    },
    {
      "cell_type": "code",
      "metadata": {
        "colab": {
          "base_uri": "https://localhost:8080/"
        },
        "id": "gTynR53Q_Tgs",
        "outputId": "62f1e19b-f099-47a7-e4f5-ff23b94b82b2"
      },
      "source": [
        "#generating a million dictionaries\n",
        "#can use aloop to generate a large number of dict efficiently, if all the dict start out with similar data.\n",
        "aliens = []\n",
        "#make a million green aliens, worth 5 points each. Have them all start in one row.\n",
        "for alien_num in range(1000000):\n",
        "  new_alien = {}\n",
        "  new_alien['color'] = 'green'\n",
        "  new_alien['points'] = 5\n",
        "  new_alien['x'] = 20 * alien_num\n",
        "  new_alien['y'] = 0\n",
        "  aliens.append(new_alien)\n",
        "#prove the list contains a million aliens. \n",
        "num_aliens = len(aliens)\n",
        "\n",
        "print('Number of aliens created:')\n",
        "print(num_aliens)"
      ],
      "execution_count": 22,
      "outputs": [
        {
          "output_type": "stream",
          "text": [
            "Number of aliens created:\n",
            "1000000\n"
          ],
          "name": "stdout"
        }
      ]
    },
    {
      "cell_type": "code",
      "metadata": {
        "id": "QQa8SHPlAfa-"
      },
      "source": [
        ""
      ],
      "execution_count": null,
      "outputs": []
    }
  ]
}