{
  "nbformat": 4,
  "nbformat_minor": 0,
  "metadata": {
    "colab": {
      "name": "LJ7.CS.ipynb",
      "provenance": [],
      "authorship_tag": "ABX9TyPXQR+BHGu5fY1GvBwAu1xI",
      "include_colab_link": true
    },
    "kernelspec": {
      "name": "python3",
      "display_name": "Python 3"
    },
    "language_info": {
      "name": "python"
    }
  },
  "cells": [
    {
      "cell_type": "markdown",
      "metadata": {
        "id": "view-in-github",
        "colab_type": "text"
      },
      "source": [
        "<a href=\"https://colab.research.google.com/github/Gaukhar-ai/UoPeople/blob/main/LJ7_CS.ipynb\" target=\"_parent\"><img src=\"https://colab.research.google.com/assets/colab-badge.svg\" alt=\"Open In Colab\"/></a>"
      ]
    },
    {
      "cell_type": "markdown",
      "metadata": {
        "id": "O1ucI-dNpCvR"
      },
      "source": [
        "Create a Python dictionary that returns a list of values for each key. The key can be whatever type you want. "
      ]
    },
    {
      "cell_type": "code",
      "metadata": {
        "id": "f6MbvcReo8kV"
      },
      "source": [
        "countries = {'Kazakhstan': ''}"
      ],
      "execution_count": null,
      "outputs": []
    },
    {
      "cell_type": "code",
      "metadata": {
        "id": "PJVNVtkAxVsq"
      },
      "source": [
        "def invert_dict(d):\n",
        " inverse = dict()\n",
        " for key in d:\n",
        "  val = d[key]\n",
        " if val not in inverse:\n",
        "  inverse[val] = [key]\n",
        " else:\n",
        "  inverse[val].append(key)\n",
        " return inverse "
      ],
      "execution_count": 2,
      "outputs": []
    },
    {
      "cell_type": "code",
      "metadata": {
        "colab": {
          "base_uri": "https://localhost:8080/"
        },
        "id": "lHiHN36sxVpi",
        "outputId": "2d2103bd-e5ed-4510-baf2-f708965abc7e"
      },
      "source": [
        "# name : [animal type, age, sex]\n",
        "animal_shellter = {\n",
        "  \"Teddy\": [\"dog\",4,\"male\"],\n",
        "  \"Elvis\": [\"dog\",1,\"male\"],\n",
        "  \"Sheyla\": [\"dog\",5,\"female\"],\n",
        "  \"Topic\": [\"hamster\",3,\"male\"],\n",
        "  \"Kuzya\": [\"cat\",10,\"male\"],\n",
        "  \"Misi\": [\"cat\",8,\"female\"],\n",
        "}\n",
        "\n",
        "\n",
        "print(animal_shellter)\n",
        "print(\"\")\n",
        "\n",
        "\n",
        "def invert(d):\n",
        "  inverse = dict()\n",
        "  for key in d:\n",
        "    val = d[key]\n",
        "    for item in val:\n",
        "      if item not in inverse:\n",
        "        inverse[item] = [key]\n",
        "      else:\n",
        "        inverse[item].append(key)\n",
        "  return inverse \n",
        "\n",
        "\n",
        "inverted_shellter = invert(animal_shellter)\n",
        "print(inverted_shellter)\n"
      ],
      "execution_count": 3,
      "outputs": [
        {
          "output_type": "stream",
          "text": [
            "{'Teddy': ['dog', 4, 'male'], 'Elvis': ['dog', 1, 'male'], 'Sheyla': ['dog', 5, 'female'], 'Topic': ['hamster', 3, 'male'], 'Kuzya': ['cat', 10, 'male'], 'Misi': ['cat', 8, 'female']}\n",
            "\n",
            "{'dog': ['Teddy', 'Elvis', 'Sheyla'], 4: ['Teddy'], 'male': ['Teddy', 'Elvis', 'Topic', 'Kuzya'], 1: ['Elvis'], 5: ['Sheyla'], 'female': ['Sheyla', 'Misi'], 'hamster': ['Topic'], 3: ['Topic'], 'cat': ['Kuzya', 'Misi'], 10: ['Kuzya'], 8: ['Misi']}\n"
          ],
          "name": "stdout"
        }
      ]
    },
    {
      "cell_type": "code",
      "metadata": {
        "id": "gBAcmiZfxVmb"
      },
      "source": [
        ""
      ],
      "execution_count": null,
      "outputs": []
    },
    {
      "cell_type": "code",
      "metadata": {
        "id": "2nvD2rZxxVjF"
      },
      "source": [
        "def invert_dict(d):\n",
        "  original=d\n",
        "  print('original dict')\n",
        "  print(original)\n",
        "\n",
        "  inverse = dict()\n",
        "  print('')\n",
        "  print('inverted keys')\n",
        "  for key in d:\n",
        "\n",
        "    val = d[key]\n",
        "    print(val)\n",
        "    if val not in inverse:\n",
        "      inverse[val] = [key]\n",
        "    else:\n",
        "      inverse[val].append(key)\n",
        "    print('')\n",
        "\n",
        "    print('inverted dict')\n",
        "    return inverse"
      ],
      "execution_count": 4,
      "outputs": []
    },
    {
      "cell_type": "code",
      "metadata": {
        "colab": {
          "base_uri": "https://localhost:8080/"
        },
        "id": "XY601FZqxVgG",
        "outputId": "81da513b-8dd6-45dd-cb16-257e03572d64"
      },
      "source": [
        "dicty = {'you': '20', 'she': 'is nice', 'I': 'the genius'}\n",
        "print(invert_dict(dicty))"
      ],
      "execution_count": 6,
      "outputs": [
        {
          "output_type": "stream",
          "text": [
            "original dict\n",
            "{'you': '20', 'she': 'is nice', 'I': 'the genius'}\n",
            "\n",
            "inverted keys\n",
            "20\n",
            "\n",
            "inverted dict\n",
            "{'20': ['you']}\n"
          ],
          "name": "stdout"
        }
      ]
    },
    {
      "cell_type": "code",
      "metadata": {
        "id": "YBNl-mDdxVcz"
      },
      "source": [
        "this_is = {'student':'Gaukhar', 'age': '22', 'major': 'computer science', 'favorite subjects': ['programming', 'economics', 'math', 'languages']}\n"
      ],
      "execution_count": 10,
      "outputs": []
    },
    {
      "cell_type": "code",
      "metadata": {
        "id": "j0mYU6QBxVZa"
      },
      "source": [
        "age = this_is.pop('age')"
      ],
      "execution_count": 11,
      "outputs": []
    },
    {
      "cell_type": "code",
      "metadata": {
        "colab": {
          "base_uri": "https://localhost:8080/"
        },
        "id": "_fiefaVZxVWb",
        "outputId": "a4ed2277-e59c-48f1-d977-6e033de6a85e"
      },
      "source": [
        "print(this_is)"
      ],
      "execution_count": 12,
      "outputs": [
        {
          "output_type": "stream",
          "text": [
            "{'student': 'Gaukhar', 'major': 'computer science', 'favorite subjects': ['programming', 'economics', 'math', 'languages']}\n"
          ],
          "name": "stdout"
        }
      ]
    },
    {
      "cell_type": "code",
      "metadata": {
        "colab": {
          "base_uri": "https://localhost:8080/"
        },
        "id": "DUtBPKFLxVTa",
        "outputId": "a662ad6e-8cee-4068-a0dd-4aef5c7d5c37"
      },
      "source": [
        "print(len(this_is)) #how many keys I have in a dictionary, just playing around with functions"
      ],
      "execution_count": 14,
      "outputs": [
        {
          "output_type": "stream",
          "text": [
            "3\n"
          ],
          "name": "stdout"
        }
      ]
    },
    {
      "cell_type": "code",
      "metadata": {
        "colab": {
          "base_uri": "https://localhost:8080/"
        },
        "id": "cfRb3nVNxVQR",
        "outputId": "f9b4ec87-3b57-44ef-9ead-2aad0fa9ab8c"
      },
      "source": [
        "#let's just see keys:\n",
        "print(this_is.keys())\n",
        "#wow, very cool. "
      ],
      "execution_count": 15,
      "outputs": [
        {
          "output_type": "stream",
          "text": [
            "dict_keys(['student', 'major', 'favorite subjects'])\n"
          ],
          "name": "stdout"
        }
      ]
    },
    {
      "cell_type": "code",
      "metadata": {
        "colab": {
          "base_uri": "https://localhost:8080/"
        },
        "id": "3E7HzKQXxVNI",
        "outputId": "644a94a4-0007-4d4f-f9b7-75fedf24951a"
      },
      "source": [
        "#keys with pairs:\n",
        "print(this_is.items())\n",
        "#wow!\n",
        "#so, although it's very impressive, i'm wondering where dictionaries are used for the majority of the time. Do they have a specific use case?\n",
        "#maybe yes, storing students! So based on their name only I could extract certain student with his major and other details from millions of rows. "
      ],
      "execution_count": 17,
      "outputs": [
        {
          "output_type": "stream",
          "text": [
            "dict_items([('student', 'Gaukhar'), ('major', 'computer science'), ('favorite subjects', ['programming', 'economics', 'math', 'languages'])])\n"
          ],
          "name": "stdout"
        }
      ]
    },
    {
      "cell_type": "code",
      "metadata": {
        "colab": {
          "base_uri": "https://localhost:8080/"
        },
        "id": "Q-qJz7sx1Wtb",
        "outputId": "acb55abe-5f33-440f-a2ef-54fd7ba9d46c"
      },
      "source": [
        "#if i want to loop through\n",
        "for key in this_is:\n",
        "  print(key)\n",
        "\n",
        "#looping only through keys"
      ],
      "execution_count": 18,
      "outputs": [
        {
          "output_type": "stream",
          "text": [
            "student\n",
            "major\n",
            "favorite subjects\n"
          ],
          "name": "stdout"
        }
      ]
    },
    {
      "cell_type": "code",
      "metadata": {
        "colab": {
          "base_uri": "https://localhost:8080/"
        },
        "id": "FQeFN7mM1536",
        "outputId": "df9768e8-9347-432e-cbd6-2b8c39e334b8"
      },
      "source": [
        "for key, value in this_is.items():\n",
        "  print(key, value)\n",
        "#okaaay, cool, so to loop through the key with a value, I have to add both in loop."
      ],
      "execution_count": 19,
      "outputs": [
        {
          "output_type": "stream",
          "text": [
            "student Gaukhar\n",
            "major computer science\n",
            "favorite subjects ['programming', 'economics', 'math', 'languages']\n"
          ],
          "name": "stdout"
        }
      ]
    },
    {
      "cell_type": "code",
      "metadata": {
        "colab": {
          "base_uri": "https://localhost:8080/"
        },
        "id": "DaKdWNkF2BiQ",
        "outputId": "c18b0ec9-c77c-4373-be32-4c896894a3dd"
      },
      "source": [
        "def invert_dict(this_is):\n",
        "     inverse = dict()\n",
        "     for key in this_is:\n",
        "          val = this_is[key]\n",
        "          if val not in inverse:\n",
        "               inverse[val] = [key]\n",
        "          else:\n",
        "               inverse[val].append(key)\n",
        "     return inverse \n",
        "\n",
        "inverted_dict = invert(this_is)\n",
        "print(inverted_dict)"
      ],
      "execution_count": 27,
      "outputs": [
        {
          "output_type": "stream",
          "text": [
            "{'G': ['student'], 'a': ['student', 'student'], 'u': ['student', 'major'], 'k': ['student'], 'h': ['student'], 'r': ['student', 'major'], 'c': ['major', 'major', 'major'], 'o': ['major'], 'm': ['major'], 'p': ['major'], 't': ['major'], 'e': ['major', 'major', 'major'], ' ': ['major'], 's': ['major'], 'i': ['major'], 'n': ['major'], 'programming': ['favorite subjects'], 'economics': ['favorite subjects'], 'math': ['favorite subjects'], 'languages': ['favorite subjects']}\n"
          ],
          "name": "stdout"
        }
      ]
    },
    {
      "cell_type": "code",
      "metadata": {
        "colab": {
          "base_uri": "https://localhost:8080/",
          "height": 283
        },
        "id": "i3s4DTDR3MZG",
        "outputId": "e7ab891a-5442-4792-b1db-e26d1268b7ac"
      },
      "source": [
        "print(invert_dict(this_is))"
      ],
      "execution_count": 24,
      "outputs": [
        {
          "output_type": "error",
          "ename": "TypeError",
          "evalue": "ignored",
          "traceback": [
            "\u001b[0;31m---------------------------------------------------------------------------\u001b[0m",
            "\u001b[0;31mTypeError\u001b[0m                                 Traceback (most recent call last)",
            "\u001b[0;32m<ipython-input-24-3fa812abeafb>\u001b[0m in \u001b[0;36m<module>\u001b[0;34m()\u001b[0m\n\u001b[0;32m----> 1\u001b[0;31m \u001b[0mprint\u001b[0m\u001b[0;34m(\u001b[0m\u001b[0minvert_dict\u001b[0m\u001b[0;34m(\u001b[0m\u001b[0mthis_is\u001b[0m\u001b[0;34m)\u001b[0m\u001b[0;34m)\u001b[0m\u001b[0;34m\u001b[0m\u001b[0;34m\u001b[0m\u001b[0m\n\u001b[0m",
            "\u001b[0;32m<ipython-input-23-bbaf192b89b2>\u001b[0m in \u001b[0;36minvert_dict\u001b[0;34m(this_is)\u001b[0m\n\u001b[1;32m      3\u001b[0m      \u001b[0;32mfor\u001b[0m \u001b[0mkey\u001b[0m \u001b[0;32min\u001b[0m \u001b[0mthis_is\u001b[0m\u001b[0;34m:\u001b[0m\u001b[0;34m\u001b[0m\u001b[0;34m\u001b[0m\u001b[0m\n\u001b[1;32m      4\u001b[0m           \u001b[0mval\u001b[0m \u001b[0;34m=\u001b[0m \u001b[0mthis_is\u001b[0m\u001b[0;34m[\u001b[0m\u001b[0mkey\u001b[0m\u001b[0;34m]\u001b[0m\u001b[0;34m\u001b[0m\u001b[0;34m\u001b[0m\u001b[0m\n\u001b[0;32m----> 5\u001b[0;31m           \u001b[0;32mif\u001b[0m \u001b[0mval\u001b[0m \u001b[0;32mnot\u001b[0m \u001b[0;32min\u001b[0m \u001b[0minverse\u001b[0m\u001b[0;34m:\u001b[0m\u001b[0;34m\u001b[0m\u001b[0;34m\u001b[0m\u001b[0m\n\u001b[0m\u001b[1;32m      6\u001b[0m                \u001b[0minverse\u001b[0m\u001b[0;34m[\u001b[0m\u001b[0mval\u001b[0m\u001b[0;34m]\u001b[0m \u001b[0;34m=\u001b[0m \u001b[0;34m[\u001b[0m\u001b[0mkey\u001b[0m\u001b[0;34m]\u001b[0m\u001b[0;34m\u001b[0m\u001b[0;34m\u001b[0m\u001b[0m\n\u001b[1;32m      7\u001b[0m           \u001b[0;32melse\u001b[0m\u001b[0;34m:\u001b[0m\u001b[0;34m\u001b[0m\u001b[0;34m\u001b[0m\u001b[0m\n",
            "\u001b[0;31mTypeError\u001b[0m: unhashable type: 'list'"
          ]
        }
      ]
    },
    {
      "cell_type": "code",
      "metadata": {
        "id": "aMlZimgV3MVf"
      },
      "source": [
        ""
      ],
      "execution_count": null,
      "outputs": []
    },
    {
      "cell_type": "code",
      "metadata": {
        "id": "7kHn6imw3MSV"
      },
      "source": [
        ""
      ],
      "execution_count": null,
      "outputs": []
    },
    {
      "cell_type": "code",
      "metadata": {
        "id": "G2goDg123MOg"
      },
      "source": [
        ""
      ],
      "execution_count": null,
      "outputs": []
    }
  ]
}