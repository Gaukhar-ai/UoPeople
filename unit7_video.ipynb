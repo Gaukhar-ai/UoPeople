{
  "nbformat": 4,
  "nbformat_minor": 0,
  "metadata": {
    "colab": {
      "name": "unit7-video.ipynb",
      "provenance": [],
      "authorship_tag": "ABX9TyOrHiUT1Cc0fAGfa0mq20l1",
      "include_colab_link": true
    },
    "kernelspec": {
      "name": "python3",
      "display_name": "Python 3"
    },
    "language_info": {
      "name": "python"
    }
  },
  "cells": [
    {
      "cell_type": "markdown",
      "metadata": {
        "id": "view-in-github",
        "colab_type": "text"
      },
      "source": [
        "<a href=\"https://colab.research.google.com/github/Gaukhar-ai/UoPeople/blob/main/unit7_video.ipynb\" target=\"_parent\"><img src=\"https://colab.research.google.com/assets/colab-badge.svg\" alt=\"Open In Colab\"/></a>"
      ]
    },
    {
      "cell_type": "code",
      "metadata": {
        "id": "q9SwGx5zT15p"
      },
      "source": [
        "import time\n",
        "import random"
      ],
      "execution_count": null,
      "outputs": []
    },
    {
      "cell_type": "code",
      "metadata": {
        "colab": {
          "base_uri": "https://localhost:8080/"
        },
        "id": "uYY3pD3KUKjs",
        "outputId": "b13e9226-f338-42ca-dfdd-e86fd06373be"
      },
      "source": [
        "!pip install calculator"
      ],
      "execution_count": null,
      "outputs": [
        {
          "output_type": "stream",
          "text": [
            "Collecting calculator\n",
            "  Downloading https://files.pythonhosted.org/packages/d7/d1/b92d9d20a0fe193088ef0c4ae15ca3710fdd35a09e4f59b80ef11fa62b7f/Calculator-1.1.0.zip\n",
            "Building wheels for collected packages: calculator\n",
            "  Building wheel for calculator (setup.py) ... \u001b[?25l\u001b[?25hdone\n",
            "  Created wheel for calculator: filename=Calculator-1.1.0-cp37-none-any.whl size=1423 sha256=ee3122896582080c2c57533675cd9add5c0881ed3ac2fc53cd44ab20b94ed895\n",
            "  Stored in directory: /root/.cache/pip/wheels/44/c1/aa/3236e834839be4a2dae4056e797d8db76806d027d54eac7cc9\n",
            "Successfully built calculator\n",
            "Installing collected packages: calculator\n",
            "Successfully installed calculator-1.1.0\n"
          ],
          "name": "stdout"
        }
      ]
    },
    {
      "cell_type": "code",
      "metadata": {
        "colab": {
          "base_uri": "https://localhost:8080/"
        },
        "id": "TVxKJCwhVBop",
        "outputId": "a6d00c88-6ca1-4ba8-8afa-015f18d08e8a"
      },
      "source": [
        "!pip install simplecalculator\n"
      ],
      "execution_count": null,
      "outputs": [
        {
          "output_type": "stream",
          "text": [
            "Collecting simplecalculator\n",
            "  Downloading https://files.pythonhosted.org/packages/69/d8/3e50699faedb93a5818c962faefe81afdbbc2aa4a9ad55e6098f5416ece2/simplecalculator-0.0.4.tar.gz\n",
            "Building wheels for collected packages: simplecalculator\n",
            "  Building wheel for simplecalculator (setup.py) ... \u001b[?25l\u001b[?25hdone\n",
            "  Created wheel for simplecalculator: filename=simplecalculator-0.0.4-cp37-none-any.whl size=2818 sha256=94a05458c9a2b13f3b08008990832ed665be63ed5e604a543a7e87edc6091bcc\n",
            "  Stored in directory: /root/.cache/pip/wheels/f2/70/1a/c46b32d34267f7420407a187da8dbce0780136dc87464ed8ac\n",
            "Successfully built simplecalculator\n",
            "Installing collected packages: simplecalculator\n",
            "Successfully installed simplecalculator-0.0.4\n"
          ],
          "name": "stdout"
        }
      ]
    },
    {
      "cell_type": "code",
      "metadata": {
        "id": "y8dgVKAcUFBu"
      },
      "source": [
        "# Import our calculator code\n",
        "# For code in the same directory it is as simple as\n",
        "# this! Note that I renamed our calculator to\n",
        "# \"calculator.py\". Also note the line I added\n",
        "# to conditionally call the main function\n",
        "import calculator"
      ],
      "execution_count": null,
      "outputs": []
    },
    {
      "cell_type": "code",
      "metadata": {
        "id": "j1Q9Za8LUHOb"
      },
      "source": [
        "# Loop A random number of times (Between 10 and 50)\n",
        "loopMax = random.randint(10, 50)"
      ],
      "execution_count": null,
      "outputs": []
    },
    {
      "cell_type": "code",
      "metadata": {
        "colab": {
          "base_uri": "https://localhost:8080/"
        },
        "id": "m6NwkKf5UpOx",
        "outputId": "263ac7e0-08b5-4215-a3f2-53d5c671ca79"
      },
      "source": [
        "#print mathing\n",
        "print('Request for ' + str(loopMax) + ' maths received... Beginning mathing sequence...')"
      ],
      "execution_count": null,
      "outputs": [
        {
          "output_type": "stream",
          "text": [
            "Request for 42 maths received... Beginning mathing sequence...\n"
          ],
          "name": "stdout"
        }
      ]
    },
    {
      "cell_type": "code",
      "metadata": {
        "id": "ZA3DvE7CVcdV"
      },
      "source": [
        "# Define python list of operations\n",
        "# This list represents the strings for the 4 calculator operations\n",
        "# Create the list just with addition in it and then add to it\n",
        "operations = ['+']  # Defines the list using brackets. Any empty list is defined as []\n",
        "# Use the append function (A function that \"comes with\" a python list) to add to the list\n",
        "operations.append('-')\n",
        "operations.append('/')\n",
        "operations.append('*')\n",
        "operations.append('+')"
      ],
      "execution_count": null,
      "outputs": []
    },
    {
      "cell_type": "code",
      "metadata": {
        "colab": {
          "base_uri": "https://localhost:8080/"
        },
        "id": "tfCFgB7aVmkF",
        "outputId": "041d647b-7faf-46d5-aa2d-3c97e5ba79f3"
      },
      "source": [
        "# Print the number of operations that will be used.\n",
        "# Use the len() function to get return the integer count\n",
        "# of the number of items in the list.\n",
        "print(\"Operation count \" + str(len(operations)))\n",
        "# Take a peek at what is in the list\n",
        "print(\"Computer will maths using the following operations \" + str(operations))"
      ],
      "execution_count": null,
      "outputs": [
        {
          "output_type": "stream",
          "text": [
            "Operation count 5\n",
            "Computer will maths using the following operations ['+', '-', '/', '*', '+']\n"
          ],
          "name": "stdout"
        }
      ]
    },
    {
      "cell_type": "code",
      "metadata": {
        "colab": {
          "base_uri": "https://localhost:8080/"
        },
        "id": "41R6zAQrVpgd",
        "outputId": "b1009255-3947-46c3-cfd8-096cd3851e82"
      },
      "source": [
        "\n",
        "# This will print three (3) new lines. The print function itself\n",
        "# prints one. \\n is the \"string\" representation of a new line.\n",
        "# Turns out that a \"new line\" is actually just a character...\n",
        "# I know life changing.\n",
        "print('\\n\\n')"
      ],
      "execution_count": null,
      "outputs": [
        {
          "output_type": "stream",
          "text": [
            "\n",
            "\n",
            "\n"
          ],
          "name": "stdout"
        }
      ]
    },
    {
      "cell_type": "code",
      "metadata": {
        "colab": {
          "base_uri": "https://localhost:8080/"
        },
        "id": "K4C9w-zTVsOH",
        "outputId": "d4f3dc70-2c41-40ac-b92e-c8e5079123a6"
      },
      "source": [
        "\n",
        "# Loop from staring index 0 to loopMax - 1.\n",
        "# This will loop loopMax number of times\n",
        "# Index will be 0 to (loopMax - 1)\n",
        "# Example: If loopMax = 10\n",
        "# Index would get these values sequentially:\n",
        "# 0,1,2,3,4,5,6,7,8,9.\n",
        "# There are 10 numbers (ten iterations of the loop)\n",
        "# but it is zero indexed so the last index is 9.\n",
        "for index in range(loopMax):\n",
        "    # Get our random numbers to operate on\n",
        "    num1 = random.randint(-99, 99)\n",
        "    num2 = random.randint(-99, 99)\n",
        "     \n",
        "    print(\"Mathing with \" + str(num1) + \" and \" + str(num2))"
      ],
      "execution_count": null,
      "outputs": [
        {
          "output_type": "stream",
          "text": [
            "Mathing with 37 and -94\n",
            "Mathing with 51 and 66\n",
            "Mathing with -72 and -88\n",
            "Mathing with -21 and 14\n",
            "Mathing with 15 and -25\n",
            "Mathing with -35 and 9\n",
            "Mathing with 94 and 72\n",
            "Mathing with 74 and -32\n",
            "Mathing with 28 and -39\n",
            "Mathing with -1 and -87\n",
            "Mathing with -85 and 25\n",
            "Mathing with -79 and -36\n",
            "Mathing with 25 and 21\n",
            "Mathing with -86 and 79\n",
            "Mathing with 65 and 31\n",
            "Mathing with 26 and 1\n",
            "Mathing with -80 and -4\n",
            "Mathing with -62 and -94\n",
            "Mathing with -24 and 28\n",
            "Mathing with 86 and 69\n",
            "Mathing with -16 and 32\n",
            "Mathing with -8 and 89\n",
            "Mathing with -31 and 3\n",
            "Mathing with 46 and -62\n",
            "Mathing with 4 and 46\n",
            "Mathing with -37 and 20\n",
            "Mathing with -98 and -81\n",
            "Mathing with -75 and 18\n",
            "Mathing with 5 and 79\n",
            "Mathing with -8 and 32\n",
            "Mathing with 84 and 29\n",
            "Mathing with 80 and 32\n",
            "Mathing with -84 and 90\n",
            "Mathing with -75 and 24\n",
            "Mathing with -10 and 31\n",
            "Mathing with 2 and 20\n",
            "Mathing with -45 and -2\n",
            "Mathing with -74 and 28\n",
            "Mathing with 56 and -99\n",
            "Mathing with -48 and 46\n",
            "Mathing with 83 and 21\n",
            "Mathing with -93 and -49\n"
          ],
          "name": "stdout"
        }
      ]
    },
    {
      "cell_type": "code",
      "metadata": {
        "colab": {
          "base_uri": "https://localhost:8080/",
          "height": 130
        },
        "id": "z7nVatBuWckS",
        "outputId": "fec4bafa-ab3f-43ff-8f2b-497e0cd83ae7"
      },
      "source": [
        "# Generate random sleep time between 0 and 1 seconds\n",
        "    # sleepTime = random.randint(0, 1)\n",
        "    sleepTime = 0  # Save time in the video (No Sleep)\n",
        "\n",
        "    # Run every available operation using another for loop\n",
        "    # In python it is easy top loop over lists two ways of\n",
        "    # doing it are shown\n",
        "    print(\"IN FOR LOOP:\")\n",
        "    \"\"\"Loop using the \"in\" keyword\"\"\"\n",
        "    # The in keyword in a for loop allows you to loop over\n",
        "    # all of the items in a dictionary sequentially.\n",
        "    # THIS IS CRAZY USEFUL! 95% of anything you do\n",
        "    # will likely use this. This is the preferred way but\n",
        "    # in some instances you will need to use the \"index\"\n",
        "    # method below.\n",
        "    for operation in operations:\n",
        "        print('operation = ' + operation)\n",
        "        calculator.runOperation(operation, num1, num2)\n",
        "        print()  # Just make a new line\n",
        "   # Sleep for random time\n",
        "    time.sleep(sleepTime)\n",
        "    # Print new lines\n",
        "    print('\\n----------------------\\n')"
      ],
      "execution_count": null,
      "outputs": [
        {
          "output_type": "error",
          "ename": "IndentationError",
          "evalue": "ignored",
          "traceback": [
            "\u001b[0;36m  File \u001b[0;32m\"<ipython-input-21-11e09869eb07>\"\u001b[0;36m, line \u001b[0;32m3\u001b[0m\n\u001b[0;31m    sleepTime = 0  # Save time in the video (No Sleep)\u001b[0m\n\u001b[0m    ^\u001b[0m\n\u001b[0;31mIndentationError\u001b[0m\u001b[0;31m:\u001b[0m unexpected indent\n"
          ]
        }
      ]
    },
    {
      "cell_type": "code",
      "metadata": {
        "id": "kq3u5NQ-VxPn"
      },
      "source": [
        ""
      ],
      "execution_count": null,
      "outputs": []
    },
    {
      "cell_type": "code",
      "metadata": {
        "colab": {
          "base_uri": "https://localhost:8080/"
        },
        "id": "1JzWw4IGWtJr",
        "outputId": "d88336b4-9715-4cde-fb35-f82d19a4961d"
      },
      "source": [
        "my_list = [3, 2, 1]\n",
        "print(my_list.sort())"
      ],
      "execution_count": null,
      "outputs": [
        {
          "output_type": "stream",
          "text": [
            "None\n"
          ],
          "name": "stdout"
        }
      ]
    },
    {
      "cell_type": "code",
      "metadata": {
        "colab": {
          "base_uri": "https://localhost:8080/"
        },
        "id": "lJ2zjLAsWtGV",
        "outputId": "b344cfb9-0a86-44dc-ed2b-a5867b123e84"
      },
      "source": [
        "(0, 1, 5, 2) > (0, 1.0, 4, 3.1)\n",
        "\n"
      ],
      "execution_count": null,
      "outputs": [
        {
          "output_type": "execute_result",
          "data": {
            "text/plain": [
              "True"
            ]
          },
          "metadata": {
            "tags": []
          },
          "execution_count": 23
        }
      ]
    },
    {
      "cell_type": "markdown",
      "metadata": {
        "id": "cXK2iij6z8m-"
      },
      "source": [
        "For example, you can use an integer, float, string, or Boolean as a dictionary key. However, neither a list nor another dictionary can serve as a dictionary key, because lists and dictionaries are mutable."
      ]
    },
    {
      "cell_type": "code",
      "metadata": {
        "id": "-PrpjqnCWtDe"
      },
      "source": [
        "mylist = [1, 4, 2, 3]\n",
        "mylist.append(5)"
      ],
      "execution_count": null,
      "outputs": []
    },
    {
      "cell_type": "code",
      "metadata": {
        "colab": {
          "base_uri": "https://localhost:8080/",
          "height": 232
        },
        "id": "QRZDtdBaWtAT",
        "outputId": "aee0913f-fe6b-4591-f2a2-38ee8b7e1fb5"
      },
      "source": [
        "result = dict()\n",
        "for key in d:\n",
        "    val = d[key]\n",
        "    if val not in result:\n",
        "        result[val] = [key]\n",
        "    else:\n",
        "        result[val].append(key)"
      ],
      "execution_count": null,
      "outputs": [
        {
          "output_type": "error",
          "ename": "NameError",
          "evalue": "ignored",
          "traceback": [
            "\u001b[0;31m---------------------------------------------------------------------------\u001b[0m",
            "\u001b[0;31mNameError\u001b[0m                                 Traceback (most recent call last)",
            "\u001b[0;32m<ipython-input-28-4e9d54d20e23>\u001b[0m in \u001b[0;36m<module>\u001b[0;34m()\u001b[0m\n\u001b[1;32m      1\u001b[0m \u001b[0mresult\u001b[0m \u001b[0;34m=\u001b[0m \u001b[0mdict\u001b[0m\u001b[0;34m(\u001b[0m\u001b[0;34m)\u001b[0m\u001b[0;34m\u001b[0m\u001b[0;34m\u001b[0m\u001b[0m\n\u001b[0;32m----> 2\u001b[0;31m \u001b[0;32mfor\u001b[0m \u001b[0mkey\u001b[0m \u001b[0;32min\u001b[0m \u001b[0md\u001b[0m\u001b[0;34m:\u001b[0m\u001b[0;34m\u001b[0m\u001b[0;34m\u001b[0m\u001b[0m\n\u001b[0m\u001b[1;32m      3\u001b[0m     \u001b[0mval\u001b[0m \u001b[0;34m=\u001b[0m \u001b[0md\u001b[0m\u001b[0;34m[\u001b[0m\u001b[0mkey\u001b[0m\u001b[0;34m]\u001b[0m\u001b[0;34m\u001b[0m\u001b[0;34m\u001b[0m\u001b[0m\n\u001b[1;32m      4\u001b[0m     \u001b[0;32mif\u001b[0m \u001b[0mval\u001b[0m \u001b[0;32mnot\u001b[0m \u001b[0;32min\u001b[0m \u001b[0mresult\u001b[0m\u001b[0;34m:\u001b[0m\u001b[0;34m\u001b[0m\u001b[0;34m\u001b[0m\u001b[0m\n\u001b[1;32m      5\u001b[0m         \u001b[0mresult\u001b[0m\u001b[0;34m[\u001b[0m\u001b[0mval\u001b[0m\u001b[0;34m]\u001b[0m \u001b[0;34m=\u001b[0m \u001b[0;34m[\u001b[0m\u001b[0mkey\u001b[0m\u001b[0;34m]\u001b[0m\u001b[0;34m\u001b[0m\u001b[0;34m\u001b[0m\u001b[0m\n",
            "\u001b[0;31mNameError\u001b[0m: name 'd' is not defined"
          ]
        }
      ]
    },
    {
      "cell_type": "code",
      "metadata": {
        "id": "rhEyxzD2Ws9t"
      },
      "source": [
        ""
      ],
      "execution_count": null,
      "outputs": []
    },
    {
      "cell_type": "code",
      "metadata": {
        "id": "GSeavgKFWs61"
      },
      "source": [
        ""
      ],
      "execution_count": null,
      "outputs": []
    },
    {
      "cell_type": "code",
      "metadata": {
        "id": "QDyvAZ30Ws4F"
      },
      "source": [
        ""
      ],
      "execution_count": null,
      "outputs": []
    },
    {
      "cell_type": "code",
      "metadata": {
        "id": "12GhJdFEWs1U"
      },
      "source": [
        ""
      ],
      "execution_count": null,
      "outputs": []
    }
  ]
}