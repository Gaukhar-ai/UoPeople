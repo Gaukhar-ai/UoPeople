{
  "nbformat": 4,
  "nbformat_minor": 0,
  "metadata": {
    "colab": {
      "name": "unit7-hw.ipynb",
      "provenance": [],
      "authorship_tag": "ABX9TyM8FW9yKHnc4osgAT9Kyw97",
      "include_colab_link": true
    },
    "kernelspec": {
      "name": "python3",
      "display_name": "Python 3"
    },
    "language_info": {
      "name": "python"
    }
  },
  "cells": [
    {
      "cell_type": "markdown",
      "metadata": {
        "id": "view-in-github",
        "colab_type": "text"
      },
      "source": [
        "<a href=\"https://colab.research.google.com/github/Gaukhar-ai/UoPeople/blob/main/unit7_hw.ipynb\" target=\"_parent\"><img src=\"https://colab.research.google.com/assets/colab-badge.svg\" alt=\"Open In Colab\"/></a>"
      ]
    },
    {
      "cell_type": "code",
      "metadata": {
        "id": "KSiUmeH25Vsc"
      },
      "source": [
        "alphabet = \"abcdefghijklmnopqrstuvwxyz\"   \n",
        "\n",
        "test_dups = [\"zzz\",\"dog\",\"bookkeeper\",\"subdermatoglyphic\",\"subdermatoglyphics\"] \n",
        "\n",
        "test_miss = [\"zzz\",\"subdermatoglyphic\",\"the quick brown fox jumps over the lazy dog\"] "
      ],
      "execution_count": 12,
      "outputs": []
    },
    {
      "cell_type": "code",
      "metadata": {
        "id": "QQOi22Th2jbT"
      },
      "source": [
        "def histogram(s):\n",
        "     d = dict()\n",
        "     for c in s:\n",
        "          if c not in d:\n",
        "               d[c] = 1\n",
        "          else:\n",
        "               d[c] += 1\n",
        "     return d "
      ],
      "execution_count": 13,
      "outputs": []
    },
    {
      "cell_type": "code",
      "metadata": {
        "id": "cW5JekEo3D9F"
      },
      "source": [
        "def has_duplicates(s):\n",
        "  h = histogram(s)\n",
        "  for k, v in h.items():\n",
        "    if v > 1:\n",
        "      return True\n",
        "  return False"
      ],
      "execution_count": 14,
      "outputs": []
    },
    {
      "cell_type": "code",
      "metadata": {
        "colab": {
          "base_uri": "https://localhost:8080/"
        },
        "id": "ARyOZEix4PY3",
        "outputId": "8b6caf42-b129-468b-8547-f95e041d8f29"
      },
      "source": [
        "for s in test_dups:\n",
        "  if has_duplicates(s):\n",
        "    print(s, 'has duplicates')\n",
        "  else:\n",
        "    print(s, 'has no duplicates')"
      ],
      "execution_count": 15,
      "outputs": [
        {
          "output_type": "stream",
          "text": [
            "zzz has duplicates\n",
            "dog has no duplicates\n",
            "bookkeeper has duplicates\n",
            "subdermatoglyphic has no duplicates\n",
            "subdermatoglyphics has duplicates\n"
          ],
          "name": "stdout"
        }
      ]
    },
    {
      "cell_type": "code",
      "metadata": {
        "id": "LnXaMbYr3D3T"
      },
      "source": [
        "def missing_letters(s):\n",
        "  h = histogram(s)\n",
        "  m = []\n",
        "  for c in alphabet:\n",
        "    if c not in h:\n",
        "      m.append(c)\n",
        "  return ''.join(m)"
      ],
      "execution_count": 16,
      "outputs": []
    },
    {
      "cell_type": "code",
      "metadata": {
        "colab": {
          "base_uri": "https://localhost:8080/"
        },
        "id": "OccgmJrJ3D0E",
        "outputId": "baa808cd-1046-4e23-aaef-a0148c86971f"
      },
      "source": [
        "for s in test_miss:\n",
        "  m = missing_letters(s)\n",
        "  if len(m):\n",
        "    print(s, 'is missing letters', m)\n",
        "  else:\n",
        "    print(s, 'uses all the letters')"
      ],
      "execution_count": 17,
      "outputs": [
        {
          "output_type": "stream",
          "text": [
            "zzz is missing letters abcdefghijklmnopqrstuvwxy\n",
            "subdermatoglyphic is missing letters fjknqvwxz\n",
            "the quick brown fox jumps over the lazy dog uses all the letters\n"
          ],
          "name": "stdout"
        }
      ]
    },
    {
      "cell_type": "code",
      "metadata": {
        "id": "8ZNryn-_3Dwq"
      },
      "source": [
        ""
      ],
      "execution_count": 17,
      "outputs": []
    },
    {
      "cell_type": "code",
      "metadata": {
        "id": "5tbgWhhz3Dtb"
      },
      "source": [
        ""
      ],
      "execution_count": null,
      "outputs": []
    }
  ]
}