{
  "nbformat": 4,
  "nbformat_minor": 0,
  "metadata": {
    "colab": {
      "name": "incremental_development.chapter-6.ipynb",
      "provenance": [],
      "authorship_tag": "ABX9TyNq+q6wC+cG+LCU9fajP0Pn",
      "include_colab_link": true
    },
    "kernelspec": {
      "name": "python3",
      "display_name": "Python 3"
    },
    "language_info": {
      "name": "python"
    }
  },
  "cells": [
    {
      "cell_type": "markdown",
      "metadata": {
        "id": "view-in-github",
        "colab_type": "text"
      },
      "source": [
        "<a href=\"https://colab.research.google.com/github/Gaukhar-ai/UoPeople/blob/main/incremental_development_chapter_6.ipynb\" target=\"_parent\"><img src=\"https://colab.research.google.com/assets/colab-badge.svg\" alt=\"Open In Colab\"/></a>"
      ]
    },
    {
      "cell_type": "markdown",
      "metadata": {
        "id": "2U9K3Q6U3BWB"
      },
      "source": [
        "Dead code"
      ]
    },
    {
      "cell_type": "code",
      "metadata": {
        "id": "CfhbRnr00uXw"
      },
      "source": [
        "def absolute_value(x):\n",
        "  if x < 0:\n",
        "    return -x\n",
        "  if x > 0:\n",
        "    return x"
      ],
      "execution_count": 1,
      "outputs": []
    },
    {
      "cell_type": "code",
      "metadata": {
        "id": "fhp604JM26pS"
      },
      "source": [
        "absolute_value(0)"
      ],
      "execution_count": 3,
      "outputs": []
    },
    {
      "cell_type": "code",
      "metadata": {
        "id": "cgJF6Nnn3WUj"
      },
      "source": [
        "x = 8"
      ],
      "execution_count": 15,
      "outputs": []
    },
    {
      "cell_type": "code",
      "metadata": {
        "id": "6j0eGcHK28tI"
      },
      "source": [
        "def compare(x):\n",
        "  if x > y:\n",
        "    return 0\n",
        "  if x < y:\n",
        "    return 'x less than y'"
      ],
      "execution_count": 30,
      "outputs": []
    },
    {
      "cell_type": "code",
      "metadata": {
        "colab": {
          "base_uri": "https://localhost:8080/",
          "height": 35
        },
        "id": "t2LZ-du63VgQ",
        "outputId": "1842c819-d2e2-497e-bac0-439a7244cee4"
      },
      "source": [
        "compare(3)"
      ],
      "execution_count": 31,
      "outputs": [
        {
          "output_type": "execute_result",
          "data": {
            "application/vnd.google.colaboratory.intrinsic+json": {
              "type": "string"
            },
            "text/plain": [
              "'x less than y'"
            ]
          },
          "metadata": {
            "tags": []
          },
          "execution_count": 31
        }
      ]
    },
    {
      "cell_type": "code",
      "metadata": {
        "colab": {
          "base_uri": "https://localhost:8080/",
          "height": 35
        },
        "id": "oK5EG-n33ZZg",
        "outputId": "55935d87-3e7a-4890-901d-1b68919e3324"
      },
      "source": [
        "compare(8)"
      ],
      "execution_count": 25,
      "outputs": [
        {
          "output_type": "execute_result",
          "data": {
            "application/vnd.google.colaboratory.intrinsic+json": {
              "type": "string"
            },
            "text/plain": [
              "'x more than y'"
            ]
          },
          "metadata": {
            "tags": []
          },
          "execution_count": 25
        }
      ]
    },
    {
      "cell_type": "code",
      "metadata": {
        "colab": {
          "base_uri": "https://localhost:8080/",
          "height": 35
        },
        "id": "-CX0k6V83qST",
        "outputId": "a279409d-fceb-4a71-a200-25b5047a0300"
      },
      "source": [
        "compare(9)"
      ],
      "execution_count": 26,
      "outputs": [
        {
          "output_type": "execute_result",
          "data": {
            "application/vnd.google.colaboratory.intrinsic+json": {
              "type": "string"
            },
            "text/plain": [
              "'x more than y'"
            ]
          },
          "metadata": {
            "tags": []
          },
          "execution_count": 26
        }
      ]
    },
    {
      "cell_type": "code",
      "metadata": {
        "colab": {
          "base_uri": "https://localhost:8080/",
          "height": 35
        },
        "id": "lz1D7S0X3sWP",
        "outputId": "365a6c15-7baa-4096-f902-625e8aee0da6"
      },
      "source": [
        "compare(-2)"
      ],
      "execution_count": 27,
      "outputs": [
        {
          "output_type": "execute_result",
          "data": {
            "application/vnd.google.colaboratory.intrinsic+json": {
              "type": "string"
            },
            "text/plain": [
              "'x less than y'"
            ]
          },
          "metadata": {
            "tags": []
          },
          "execution_count": 27
        }
      ]
    },
    {
      "cell_type": "code",
      "metadata": {
        "colab": {
          "base_uri": "https://localhost:8080/",
          "height": 35
        },
        "id": "ou7rB1GK3yKd",
        "outputId": "fa0eb6a9-333e-49e4-c775-8a70b010d2f4"
      },
      "source": [
        "compare(0)"
      ],
      "execution_count": 32,
      "outputs": [
        {
          "output_type": "execute_result",
          "data": {
            "application/vnd.google.colaboratory.intrinsic+json": {
              "type": "string"
            },
            "text/plain": [
              "'x less than y'"
            ]
          },
          "metadata": {
            "tags": []
          },
          "execution_count": 32
        }
      ]
    },
    {
      "cell_type": "markdown",
      "metadata": {
        "id": "bafMAUQR5-pD"
      },
      "source": [
        "incremental development to test the long code."
      ]
    },
    {
      "cell_type": "code",
      "metadata": {
        "id": "MkZzkA968Mu8"
      },
      "source": [
        "Pythagorean theorem: (x1, y1) and (x2, y2)"
      ],
      "execution_count": null,
      "outputs": []
    },
    {
      "cell_type": "markdown",
      "metadata": {
        "id": "AyBL1YIC8ZCC"
      },
      "source": [
        "find the distance between 2 points, given by the coordiantes (x1, y1) and (x2, y2). By the Pythagorean theorem the distance is: \n",
        "\n",
        "distance = √[(x2-x1)²+(y2-y1)²]."
      ]
    },
    {
      "cell_type": "code",
      "metadata": {
        "id": "saE2ZlfS4855"
      },
      "source": [
        "def distance(x1, y1, x2, y2):\n",
        "  return 0.0"
      ],
      "execution_count": 33,
      "outputs": []
    },
    {
      "cell_type": "code",
      "metadata": {
        "colab": {
          "base_uri": "https://localhost:8080/"
        },
        "id": "h6D7Nd255446",
        "outputId": "387109bb-af17-4ee7-c85e-4f03db24b5ac"
      },
      "source": [
        "distance(1, 2, 4, 6) #it runs so the function syntactically correct. "
      ],
      "execution_count": 35,
      "outputs": [
        {
          "output_type": "execute_result",
          "data": {
            "text/plain": [
              "0.0"
            ]
          },
          "metadata": {
            "tags": []
          },
          "execution_count": 35
        }
      ]
    },
    {
      "cell_type": "code",
      "metadata": {
        "id": "_yJGqR7o6Hbv"
      },
      "source": [
        "def distance(x1, y1, x2, y2):\n",
        "  dx = x2 - x1\n",
        "  dy = y2 - y1\n",
        "  print('dx is', dx)\n",
        "  print('dy is', dy)\n",
        "  return 0.0"
      ],
      "execution_count": 36,
      "outputs": []
    },
    {
      "cell_type": "code",
      "metadata": {
        "colab": {
          "base_uri": "https://localhost:8080/"
        },
        "id": "OgIsfQhx6oqu",
        "outputId": "403f7026-ec2e-4c35-9094-6d95bc2f19f6"
      },
      "source": [
        "distance(1,2,4,6)"
      ],
      "execution_count": 37,
      "outputs": [
        {
          "output_type": "stream",
          "text": [
            "dx is 3\n",
            "dy is 4\n"
          ],
          "name": "stdout"
        },
        {
          "output_type": "execute_result",
          "data": {
            "text/plain": [
              "0.0"
            ]
          },
          "metadata": {
            "tags": []
          },
          "execution_count": 37
        }
      ]
    },
    {
      "cell_type": "code",
      "metadata": {
        "id": "TMdy-w5P6vQc"
      },
      "source": [
        "def distance(x1, y1, x2, y2):\n",
        "  dx = x2 - x1\n",
        "  dy = y2 - y1\n",
        "  dsquared = dx**2 + dy**2\n",
        "  print('dsquared is: ', dsquared)\n",
        "  return 0.0"
      ],
      "execution_count": 38,
      "outputs": []
    },
    {
      "cell_type": "code",
      "metadata": {
        "colab": {
          "base_uri": "https://localhost:8080/"
        },
        "id": "mf9qdp6H7OlB",
        "outputId": "050766be-70d9-4e18-d109-ea9d9d23d80f"
      },
      "source": [
        "distance(1,2,4,6)"
      ],
      "execution_count": 39,
      "outputs": [
        {
          "output_type": "stream",
          "text": [
            "dsquared is:  25\n"
          ],
          "name": "stdout"
        },
        {
          "output_type": "execute_result",
          "data": {
            "text/plain": [
              "0.0"
            ]
          },
          "metadata": {
            "tags": []
          },
          "execution_count": 39
        }
      ]
    },
    {
      "cell_type": "code",
      "metadata": {
        "id": "luf8VQeH7_Sp"
      },
      "source": [
        "import math"
      ],
      "execution_count": 42,
      "outputs": []
    },
    {
      "cell_type": "code",
      "metadata": {
        "id": "fOVEa4o87Zk5"
      },
      "source": [
        "def distance(x1, y1, x2, y2):\n",
        "  dx = x2 - x1\n",
        "  dy = y2 - y1\n",
        "  dsquared = dx**2+dy**2\n",
        "  result = math.sqrt(dsquared)\n",
        "  return result"
      ],
      "execution_count": 43,
      "outputs": []
    },
    {
      "cell_type": "code",
      "metadata": {
        "colab": {
          "base_uri": "https://localhost:8080/"
        },
        "id": "wkrOx5Mp77gS",
        "outputId": "a76911ea-924b-4fd8-caad-8a7a733bd54e"
      },
      "source": [
        "distance(1,2,4,6)"
      ],
      "execution_count": 44,
      "outputs": [
        {
          "output_type": "execute_result",
          "data": {
            "text/plain": [
              "5.0"
            ]
          },
          "metadata": {
            "tags": []
          },
          "execution_count": 44
        }
      ]
    },
    {
      "cell_type": "markdown",
      "metadata": {
        "id": "utR73oCw_q4Z"
      },
      "source": [
        "Composition - is when you can call one function within another."
      ]
    },
    {
      "cell_type": "code",
      "metadata": {
        "id": "ZcNT9tg2_7vB"
      },
      "source": [
        "xc = 6\n",
        "yc = 6\n",
        "xp=3\n",
        "yp = 3"
      ],
      "execution_count": 47,
      "outputs": []
    },
    {
      "cell_type": "code",
      "metadata": {
        "id": "Z7PAk2zG79ba"
      },
      "source": [
        "radius = distance(xc, yc, xp, yp)"
      ],
      "execution_count": 48,
      "outputs": []
    },
    {
      "cell_type": "code",
      "metadata": {
        "id": "5EUvh0fmA7Ee"
      },
      "source": [
        ""
      ],
      "execution_count": 51,
      "outputs": []
    },
    {
      "cell_type": "code",
      "metadata": {
        "id": "BlZTxzWv_3kc"
      },
      "source": [
        "result = area(radius)"
      ],
      "execution_count": null,
      "outputs": []
    },
    {
      "cell_type": "code",
      "metadata": {
        "id": "cA8W9unyAVRI"
      },
      "source": [
        "def circle_area(xc, yc, xp, yp):\n",
        "  radius = distance(xc, yc, xp, yp)\n",
        "  result = arean(radius)\n",
        "  return result"
      ],
      "execution_count": 54,
      "outputs": []
    },
    {
      "cell_type": "code",
      "metadata": {
        "id": "X8j4Ewo_AVOU"
      },
      "source": [
        "def circle_area(xc, yc, xp, yp):\n",
        "  return area(distance(xc, yc, xp, yp))"
      ],
      "execution_count": 55,
      "outputs": []
    },
    {
      "cell_type": "markdown",
      "metadata": {
        "id": "q19_d_vhB7k-"
      },
      "source": [
        "Boolean Functions"
      ]
    },
    {
      "cell_type": "code",
      "metadata": {
        "id": "tDvWui17AVLY"
      },
      "source": [
        "def is_divisible(x, y):\n",
        "  if x % y == 0:\n",
        "    return True\n",
        "  else:\n",
        "    return False"
      ],
      "execution_count": 57,
      "outputs": []
    },
    {
      "cell_type": "code",
      "metadata": {
        "colab": {
          "base_uri": "https://localhost:8080/"
        },
        "id": "K0vVbFx1AVIz",
        "outputId": "23df2f2b-d862-44d4-ad75-126ec78e9d35"
      },
      "source": [
        "is_divisible(6, 2)"
      ],
      "execution_count": 58,
      "outputs": [
        {
          "output_type": "execute_result",
          "data": {
            "text/plain": [
              "True"
            ]
          },
          "metadata": {
            "tags": []
          },
          "execution_count": 58
        }
      ]
    },
    {
      "cell_type": "code",
      "metadata": {
        "colab": {
          "base_uri": "https://localhost:8080/"
        },
        "id": "MrzgA__zAVGE",
        "outputId": "f4097ec5-b95a-467a-a1a0-7bdf77194bb9"
      },
      "source": [
        "is_divisible(3, 5)"
      ],
      "execution_count": 59,
      "outputs": [
        {
          "output_type": "execute_result",
          "data": {
            "text/plain": [
              "False"
            ]
          },
          "metadata": {
            "tags": []
          },
          "execution_count": 59
        }
      ]
    },
    {
      "cell_type": "code",
      "metadata": {
        "id": "jNAsLOboAVDO"
      },
      "source": [
        "def is_divisible(x, y):\n",
        "  return x%y==0"
      ],
      "execution_count": 60,
      "outputs": []
    },
    {
      "cell_type": "code",
      "metadata": {
        "id": "EcIGm62sAVAe"
      },
      "source": [
        "if is_divisible(x, y):\n",
        "  print('x is divisible by y')"
      ],
      "execution_count": 61,
      "outputs": []
    },
    {
      "cell_type": "code",
      "metadata": {
        "id": "qyEdDD0oAU9e"
      },
      "source": [
        "if is_divisible(x, y) == True: \n",
        "  print('x is divisible by y')\n",
        "\n",
        "#extra comparison is unnecessary"
      ],
      "execution_count": 63,
      "outputs": []
    },
    {
      "cell_type": "code",
      "metadata": {
        "id": "Mm_xZILJCrP3"
      },
      "source": [
        "def is_between(x, y, z):\n",
        "  if x<=y<=z:\n",
        "    return True\n",
        "  else:\n",
        "    return False"
      ],
      "execution_count": 64,
      "outputs": []
    },
    {
      "cell_type": "code",
      "metadata": {
        "colab": {
          "base_uri": "https://localhost:8080/"
        },
        "id": "tNnt2oomCrN2",
        "outputId": "c282add0-3558-4ec6-e7ff-405a7fdd611c"
      },
      "source": [
        "is_between(2, 4, 2)"
      ],
      "execution_count": 65,
      "outputs": [
        {
          "output_type": "execute_result",
          "data": {
            "text/plain": [
              "False"
            ]
          },
          "metadata": {
            "tags": []
          },
          "execution_count": 65
        }
      ]
    },
    {
      "cell_type": "code",
      "metadata": {
        "colab": {
          "base_uri": "https://localhost:8080/"
        },
        "id": "EsKb-R1vCrKX",
        "outputId": "a08f71c1-ca36-43b2-fc25-22a5b6ba12f4"
      },
      "source": [
        "is_between(0, 3, 9)"
      ],
      "execution_count": 66,
      "outputs": [
        {
          "output_type": "execute_result",
          "data": {
            "text/plain": [
              "True"
            ]
          },
          "metadata": {
            "tags": []
          },
          "execution_count": 66
        }
      ]
    },
    {
      "cell_type": "markdown",
      "metadata": {
        "id": "kWxesovbENke"
      },
      "source": [
        "More recursion"
      ]
    },
    {
      "cell_type": "code",
      "metadata": {
        "id": "5qVe3AYqCrH-"
      },
      "source": [
        "def factorial(n):\n",
        "  if n ==0:\n",
        "    return 1"
      ],
      "execution_count": 67,
      "outputs": []
    },
    {
      "cell_type": "code",
      "metadata": {
        "id": "nMo4CstqCrEr"
      },
      "source": [
        "factorial(4)"
      ],
      "execution_count": 68,
      "outputs": []
    },
    {
      "cell_type": "code",
      "metadata": {
        "colab": {
          "base_uri": "https://localhost:8080/"
        },
        "id": "I3BlwmshCrCO",
        "outputId": "ffcc3c35-4720-456c-d581-166a25727ac2"
      },
      "source": [
        "factorial(0)"
      ],
      "execution_count": 69,
      "outputs": [
        {
          "output_type": "execute_result",
          "data": {
            "text/plain": [
              "1"
            ]
          },
          "metadata": {
            "tags": []
          },
          "execution_count": 69
        }
      ]
    },
    {
      "cell_type": "code",
      "metadata": {
        "id": "ZhYcMep2Cq_I"
      },
      "source": [
        "def factorial(n):\n",
        "  if n == 0:\n",
        "    return 1\n",
        "  else:\n",
        "    recurse = factorial(n-1)\n",
        "    result = n*recurse\n",
        "    return result"
      ],
      "execution_count": 70,
      "outputs": []
    },
    {
      "cell_type": "code",
      "metadata": {
        "colab": {
          "base_uri": "https://localhost:8080/"
        },
        "id": "x-Gxv0y7Cq8g",
        "outputId": "63675a2a-1ab8-4361-bb58-59e551fc7f96"
      },
      "source": [
        "factorial(3)"
      ],
      "execution_count": 71,
      "outputs": [
        {
          "output_type": "execute_result",
          "data": {
            "text/plain": [
              "6"
            ]
          },
          "metadata": {
            "tags": []
          },
          "execution_count": 71
        }
      ]
    },
    {
      "cell_type": "markdown",
      "metadata": {
        "id": "G5ENPwKqGS-o"
      },
      "source": [
        "Fibonacci number:\n",
        "fibonacci(0) = 0\n",
        "fibonacci(1) = 1\n",
        "fibonacci(n) = fibonacci(n-1) + fibonacci(n-2)"
      ]
    },
    {
      "cell_type": "code",
      "metadata": {
        "id": "DEmm-xRuCq5Y"
      },
      "source": [
        "def fibonacci(n):\n",
        "  if n == 0:\n",
        "    return 0\n",
        "  elif n ==1:\n",
        "    return 1\n",
        "  else:\n",
        "    return fibonacci(n-1)+fibonacci(n-2)"
      ],
      "execution_count": 74,
      "outputs": []
    },
    {
      "cell_type": "code",
      "metadata": {
        "colab": {
          "base_uri": "https://localhost:8080/"
        },
        "id": "QnKde7f5Cq2w",
        "outputId": "161d70f5-bd11-4453-ecd4-31be0981d49a"
      },
      "source": [
        "fibonacci(3)"
      ],
      "execution_count": 75,
      "outputs": [
        {
          "output_type": "execute_result",
          "data": {
            "text/plain": [
              "2"
            ]
          },
          "metadata": {
            "tags": []
          },
          "execution_count": 75
        }
      ]
    },
    {
      "cell_type": "markdown",
      "metadata": {
        "id": "1IJJEtk6HMgo"
      },
      "source": [
        "Checking Types"
      ]
    },
    {
      "cell_type": "code",
      "metadata": {
        "id": "VBtsQNNHCqz0"
      },
      "source": [
        "factorial (1.5)\n",
        "#if n is not n is not an integer, we can miss the base and recurse forever."
      ],
      "execution_count": null,
      "outputs": []
    },
    {
      "cell_type": "code",
      "metadata": {
        "id": "kEyq0J90Cqws"
      },
      "source": [
        "def factorial(n):\n",
        "  if not isinstance(n, int):\n",
        "    print('Factorial is only defined for integers')\n",
        "    return None\n",
        "  elif n < 0:\n",
        "    print('Factorial is not defined for negative integers')\n",
        "    return None\n",
        "  elif n == 0:\n",
        "    return 1\n",
        "  else:\n",
        "    return n*factorial(n-1)"
      ],
      "execution_count": 77,
      "outputs": []
    },
    {
      "cell_type": "code",
      "metadata": {
        "colab": {
          "base_uri": "https://localhost:8080/"
        },
        "id": "_qKcOfZvILcJ",
        "outputId": "fc55b32a-39c3-4d76-b3a7-b51d1997258a"
      },
      "source": [
        "factorial('fred')"
      ],
      "execution_count": 78,
      "outputs": [
        {
          "output_type": "stream",
          "text": [
            "Factorial is only defined for integers\n"
          ],
          "name": "stdout"
        }
      ]
    },
    {
      "cell_type": "code",
      "metadata": {
        "colab": {
          "base_uri": "https://localhost:8080/"
        },
        "id": "CuSX0Y1JIXXR",
        "outputId": "b7deea71-0a1c-441d-f40c-e8122466b423"
      },
      "source": [
        "factorial(-2)"
      ],
      "execution_count": 79,
      "outputs": [
        {
          "output_type": "stream",
          "text": [
            "Factorial is not defined for negative integers\n"
          ],
          "name": "stdout"
        }
      ]
    },
    {
      "cell_type": "markdown",
      "metadata": {
        "id": "JLA4rXPAImR7"
      },
      "source": [
        "This program demonstrates a pattern called a guardian. The firs ttwo conditionals act as guardians, protecting the code that follows from values that might cause an error. The guardians make it possible to prove the correctness of the code. "
      ]
    },
    {
      "cell_type": "code",
      "metadata": {
        "id": "RWb-Lb8mIcsS"
      },
      "source": [
        ""
      ],
      "execution_count": null,
      "outputs": []
    }
  ]
}