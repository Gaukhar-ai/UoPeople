{
  "nbformat": 4,
  "nbformat_minor": 0,
  "metadata": {
    "colab": {
      "name": "airbnb.ai.summit.paspark.ipynb",
      "provenance": [],
      "authorship_tag": "ABX9TyPxyKUwgkpNOLsPXdm0l3i9",
      "include_colab_link": true
    },
    "kernelspec": {
      "name": "python3",
      "display_name": "Python 3"
    },
    "language_info": {
      "name": "python"
    }
  },
  "cells": [
    {
      "cell_type": "markdown",
      "metadata": {
        "id": "view-in-github",
        "colab_type": "text"
      },
      "source": [
        "<a href=\"https://colab.research.google.com/github/Gaukhar-ai/UoPeople/blob/main/airbnb_ai_summit_paspark.ipynb\" target=\"_parent\"><img src=\"https://colab.research.google.com/assets/colab-badge.svg\" alt=\"Open In Colab\"/></a>"
      ]
    },
    {
      "cell_type": "markdown",
      "metadata": {
        "id": "XAbiwPSOrFDB"
      },
      "source": [
        "From AI summit on Databricks, she's looking at the hawaii property by using the pandas. "
      ]
    },
    {
      "cell_type": "code",
      "metadata": {
        "id": "zR36PStKqNU0"
      },
      "source": [
        "import pandas as pd\n",
        "df = pd.read_parquet('aribnbn-hawaii.parquet')\n",
        "df = df[(df['price'] > 0) & (df['price']< 10000)]\n",
        "df = df[['bedrooms', 'listing_url', 'name', 'description', 'host_is_superhost', 'property_type', 'review_scores_cleanliness', 'price']]\n",
        "df.head()\n"
      ],
      "execution_count": null,
      "outputs": []
    },
    {
      "cell_type": "markdown",
      "metadata": {
        "id": "q-qmMBEMrL3d"
      },
      "source": [
        "Now switching from pandas to spark, to see all the airbnb listings around the globe. It's the same thing but using spark "
      ]
    },
    {
      "cell_type": "code",
      "metadata": {
        "id": "SJjZUn5KqSFB"
      },
      "source": [
        "import pyspark.pandas as ps\n",
        "df = ps.read_parquet('aribnbn-hawaii.parquet')\n",
        "df = df[(df['price'] > 0) & (df['price']< 10000)]\n",
        "df = df[['bedrooms', 'listing_url', 'name', 'description', 'host_is_superhost', 'property_type', 'review_scores_cleanliness', 'price']]\n",
        "df.head()"
      ],
      "execution_count": null,
      "outputs": []
    },
    {
      "cell_type": "markdown",
      "metadata": {
        "id": "PlBCD7SlrvWN"
      },
      "source": [
        "plotting the price range and room #s"
      ]
    },
    {
      "cell_type": "code",
      "metadata": {
        "id": "dIKRr3hHqSB5"
      },
      "source": [
        "df.groupby('bedrooms') ['price'].mean().plot(kind='bar', y = 'price')"
      ],
      "execution_count": null,
      "outputs": []
    },
    {
      "cell_type": "markdown",
      "metadata": {
        "id": "oTBVaPSBr5JL"
      },
      "source": [
        "drops the metadata, and can use spark_df as a df"
      ]
    },
    {
      "cell_type": "code",
      "metadata": {
        "id": "SbVFxGOIqR-6"
      },
      "source": [
        "spark_df =  df.to_spark()"
      ],
      "execution_count": null,
      "outputs": []
    },
    {
      "cell_type": "markdown",
      "metadata": {
        "id": "ZDEwxUrhsVET"
      },
      "source": [
        "to see the type: condo, house, etc. "
      ]
    },
    {
      "cell_type": "code",
      "metadata": {
        "id": "X3QGeiKbsFhS"
      },
      "source": [
        "display(spark_df.groupby('property_type').count().orderBy('count', ascending=False))"
      ],
      "execution_count": null,
      "outputs": []
    },
    {
      "cell_type": "markdown",
      "metadata": {
        "id": "_p57jqxsr_CS"
      },
      "source": [
        "this is in pandas"
      ]
    },
    {
      "cell_type": "code",
      "metadata": {
        "id": "RKEQ5191qR8I"
      },
      "source": [
        "display(df['property_type'].value_counts().reset_index())"
      ],
      "execution_count": null,
      "outputs": []
    },
    {
      "cell_type": "markdown",
      "metadata": {
        "id": "DG4EaQ3Ush4z"
      },
      "source": [
        "which airbnb should u rent?\n",
        "can write in sql"
      ]
    },
    {
      "cell_type": "code",
      "metadata": {
        "id": "UBQ02wfZqR5g"
      },
      "source": [
        "ps.sql(\"\"\"SELECT *\n",
        "          FROM {df}\n",
        "          WHERE neighborhood_cleansed= \"lanai\"\n",
        "          AND host_is_superhost = 't'\n",
        "          AND price < 400\n",
        "          AND review_scores_cleanliness = 10\"\"\")"
      ],
      "execution_count": null,
      "outputs": []
    },
    {
      "cell_type": "markdown",
      "metadata": {
        "id": "oyhuSKVatIrC"
      },
      "source": [
        "copy the url and paste. See the house. "
      ]
    },
    {
      "cell_type": "code",
      "metadata": {
        "id": "_krMwnn9qR3A"
      },
      "source": [
        ""
      ],
      "execution_count": null,
      "outputs": []
    },
    {
      "cell_type": "code",
      "metadata": {
        "id": "rmCmSpftqR0h"
      },
      "source": [
        ""
      ],
      "execution_count": null,
      "outputs": []
    },
    {
      "cell_type": "code",
      "metadata": {
        "id": "b67LZ5pWqRu4"
      },
      "source": [
        ""
      ],
      "execution_count": null,
      "outputs": []
    },
    {
      "cell_type": "code",
      "metadata": {
        "id": "YyXp_2bVqRsQ"
      },
      "source": [
        ""
      ],
      "execution_count": null,
      "outputs": []
    }
  ]
}