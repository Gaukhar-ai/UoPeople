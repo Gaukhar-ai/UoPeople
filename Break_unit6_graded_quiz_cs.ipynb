{
  "nbformat": 4,
  "nbformat_minor": 0,
  "metadata": {
    "colab": {
      "name": "Break.unit6-graded.quiz.cs.ipynb",
      "provenance": [],
      "authorship_tag": "ABX9TyMsyYJwEGtFjYnAA12xqqI4",
      "include_colab_link": true
    },
    "kernelspec": {
      "name": "python3",
      "display_name": "Python 3"
    },
    "language_info": {
      "name": "python"
    }
  },
  "cells": [
    {
      "cell_type": "markdown",
      "metadata": {
        "id": "view-in-github",
        "colab_type": "text"
      },
      "source": [
        "<a href=\"https://colab.research.google.com/github/Gaukhar-ai/UoPeople/blob/main/Break_unit6_graded_quiz_cs.ipynb\" target=\"_parent\"><img src=\"https://colab.research.google.com/assets/colab-badge.svg\" alt=\"Open In Colab\"/></a>"
      ]
    },
    {
      "cell_type": "code",
      "metadata": {
        "id": "H35Up3JNBe5O"
      },
      "source": [
        "while True:\n",
        "  line = raw_input('> ')\n",
        "  if line == 'done':\n",
        "    break\n",
        "  print(line)\n",
        "print('done')"
      ],
      "execution_count": null,
      "outputs": []
    },
    {
      "cell_type": "code",
      "metadata": {
        "colab": {
          "base_uri": "https://localhost:8080/"
        },
        "id": "I53GldZWB2gG",
        "outputId": "8a02304d-dd93-4168-c2b3-712dd08e561b"
      },
      "source": [
        "a = 4\n",
        "x = 3\n",
        "y = (x+a/x)/2\n",
        "print(y)"
      ],
      "execution_count": 5,
      "outputs": [
        {
          "output_type": "stream",
          "text": [
            "2.1666666666666665\n"
          ],
          "name": "stdout"
        }
      ]
    },
    {
      "cell_type": "code",
      "metadata": {
        "colab": {
          "base_uri": "https://localhost:8080/"
        },
        "id": "z6c323mMHBB2",
        "outputId": "4a0170e6-39cc-4b38-d6b7-965c532b2083"
      },
      "source": [
        "x = y\n",
        "y = (x+a/x)/2\n",
        "print(y)"
      ],
      "execution_count": 6,
      "outputs": [
        {
          "output_type": "stream",
          "text": [
            "2.0064102564102564\n"
          ],
          "name": "stdout"
        }
      ]
    },
    {
      "cell_type": "code",
      "metadata": {
        "colab": {
          "base_uri": "https://localhost:8080/"
        },
        "id": "AzdufnQYHA-0",
        "outputId": "a6ae1839-056d-4358-9367-12868e0f62be"
      },
      "source": [
        "while True:\n",
        "  print(x)\n",
        "  y = (x+a/x)/2\n",
        "  if y ==x:\n",
        "    break\n",
        "  x = y"
      ],
      "execution_count": 7,
      "outputs": [
        {
          "output_type": "stream",
          "text": [
            "2.1666666666666665\n",
            "2.0064102564102564\n",
            "2.0000102400262145\n",
            "2.0000000000262146\n",
            "2.0\n"
          ],
          "name": "stdout"
        }
      ]
    },
    {
      "cell_type": "code",
      "metadata": {
        "id": "XxwHKvh9HA7l"
      },
      "source": [
        "if abs(y-x) < epsilon:\n",
        "  break"
      ],
      "execution_count": null,
      "outputs": []
    },
    {
      "cell_type": "code",
      "metadata": {
        "id": "e_kd7qCeHA4d"
      },
      "source": [
        "fruit = 'banana'\n",
        "letter = fruit[1] # 1 is an index"
      ],
      "execution_count": 9,
      "outputs": []
    },
    {
      "cell_type": "code",
      "metadata": {
        "colab": {
          "base_uri": "https://localhost:8080/",
          "height": 35
        },
        "id": "j3atWZ4CHA1a",
        "outputId": "85393c25-366c-4b59-cdaa-43f6a1cf259c"
      },
      "source": [
        "fruit"
      ],
      "execution_count": 10,
      "outputs": [
        {
          "output_type": "execute_result",
          "data": {
            "application/vnd.google.colaboratory.intrinsic+json": {
              "type": "string"
            },
            "text/plain": [
              "'banana'"
            ]
          },
          "metadata": {
            "tags": []
          },
          "execution_count": 10
        }
      ]
    },
    {
      "cell_type": "code",
      "metadata": {
        "colab": {
          "base_uri": "https://localhost:8080/",
          "height": 35
        },
        "id": "xqqD5mUhHAyy",
        "outputId": "bd912417-18f3-4465-d963-e053a2da5de9"
      },
      "source": [
        "letter"
      ],
      "execution_count": 11,
      "outputs": [
        {
          "output_type": "execute_result",
          "data": {
            "application/vnd.google.colaboratory.intrinsic+json": {
              "type": "string"
            },
            "text/plain": [
              "'a'"
            ]
          },
          "metadata": {
            "tags": []
          },
          "execution_count": 11
        }
      ]
    },
    {
      "cell_type": "code",
      "metadata": {
        "colab": {
          "base_uri": "https://localhost:8080/"
        },
        "id": "0sDVnAiEHAv6",
        "outputId": "3687083a-db45-4e38-81be-286dedbb3946"
      },
      "source": [
        "len(fruit)"
      ],
      "execution_count": 12,
      "outputs": [
        {
          "output_type": "execute_result",
          "data": {
            "text/plain": [
              "6"
            ]
          },
          "metadata": {
            "tags": []
          },
          "execution_count": 12
        }
      ]
    },
    {
      "cell_type": "code",
      "metadata": {
        "colab": {
          "base_uri": "https://localhost:8080/",
          "height": 181
        },
        "id": "cC6fp2GtHAtA",
        "outputId": "29d94ac5-bacd-4046-9e75-1018db707928"
      },
      "source": [
        "length = len(fruit)\n",
        "last = fruit[length] #because there's no letter in banana with index 6!"
      ],
      "execution_count": 13,
      "outputs": [
        {
          "output_type": "error",
          "ename": "IndexError",
          "evalue": "ignored",
          "traceback": [
            "\u001b[0;31m---------------------------------------------------------------------------\u001b[0m",
            "\u001b[0;31mIndexError\u001b[0m                                Traceback (most recent call last)",
            "\u001b[0;32m<ipython-input-13-4dd85e09c2d1>\u001b[0m in \u001b[0;36m<module>\u001b[0;34m()\u001b[0m\n\u001b[1;32m      1\u001b[0m \u001b[0mlength\u001b[0m \u001b[0;34m=\u001b[0m \u001b[0mlen\u001b[0m\u001b[0;34m(\u001b[0m\u001b[0mfruit\u001b[0m\u001b[0;34m)\u001b[0m\u001b[0;34m\u001b[0m\u001b[0;34m\u001b[0m\u001b[0m\n\u001b[0;32m----> 2\u001b[0;31m \u001b[0mlast\u001b[0m \u001b[0;34m=\u001b[0m \u001b[0mfruit\u001b[0m\u001b[0;34m[\u001b[0m\u001b[0mlength\u001b[0m\u001b[0;34m]\u001b[0m\u001b[0;34m\u001b[0m\u001b[0;34m\u001b[0m\u001b[0m\n\u001b[0m",
            "\u001b[0;31mIndexError\u001b[0m: string index out of range"
          ]
        }
      ]
    },
    {
      "cell_type": "code",
      "metadata": {
        "colab": {
          "base_uri": "https://localhost:8080/"
        },
        "id": "0KrCm8WSHAqC",
        "outputId": "ea91219d-817f-4c43-a71d-bee61f0ddc89"
      },
      "source": [
        "last = fruit[length-1]\n",
        "print(last)"
      ],
      "execution_count": 14,
      "outputs": [
        {
          "output_type": "stream",
          "text": [
            "a\n"
          ],
          "name": "stdout"
        }
      ]
    },
    {
      "cell_type": "markdown",
      "metadata": {
        "id": "dttXQoylTxtf"
      },
      "source": [
        "Strings are immutable"
      ]
    },
    {
      "cell_type": "code",
      "metadata": {
        "colab": {
          "base_uri": "https://localhost:8080/"
        },
        "id": "VYSqo6r-HAnJ",
        "outputId": "91b04b69-6a63-4b44-f61d-12043aa339dd"
      },
      "source": [
        "greeting = 'Hello world'\n",
        "new_greeting = 'J' + greeting[1:]\n",
        "print(new_greeting)"
      ],
      "execution_count": 15,
      "outputs": [
        {
          "output_type": "stream",
          "text": [
            "Jello world\n"
          ],
          "name": "stdout"
        }
      ]
    },
    {
      "cell_type": "markdown",
      "metadata": {
        "id": "jmFjOwZGUX41"
      },
      "source": [
        "Searching:"
      ]
    },
    {
      "cell_type": "code",
      "metadata": {
        "id": "PX0gYJuaHAkZ"
      },
      "source": [
        "def find(word, letter):\n",
        "  index = 0\n",
        "  while index < len(word):\n",
        "    if word[index] == letter:\n",
        "      return index\n",
        "    index = index + 1\n",
        "  return -1"
      ],
      "execution_count": 16,
      "outputs": []
    },
    {
      "cell_type": "markdown",
      "metadata": {
        "id": "-WYOtYheUb8H"
      },
      "source": [
        "Looping and Counting"
      ]
    },
    {
      "cell_type": "code",
      "metadata": {
        "colab": {
          "base_uri": "https://localhost:8080/"
        },
        "id": "frbSNX3DHAhQ",
        "outputId": "51cbadf5-53f8-478d-c86b-46b0f529417e"
      },
      "source": [
        "word = 'banana'\n",
        "count = 0\n",
        "for letter in word:\n",
        "  if letter == 'a':\n",
        "    count = count + 1\n",
        "print(count)"
      ],
      "execution_count": 17,
      "outputs": [
        {
          "output_type": "stream",
          "text": [
            "3\n"
          ],
          "name": "stdout"
        }
      ]
    },
    {
      "cell_type": "code",
      "metadata": {
        "id": "raxdhQSMHAb-"
      },
      "source": [
        ""
      ],
      "execution_count": null,
      "outputs": []
    },
    {
      "cell_type": "code",
      "metadata": {
        "id": "v9PBBbRGHAY3"
      },
      "source": [
        "def is_divisible(x, y):\n",
        "\n",
        "    return (x % y) == 0"
      ],
      "execution_count": 18,
      "outputs": []
    },
    {
      "cell_type": "code",
      "metadata": {
        "colab": {
          "base_uri": "https://localhost:8080/"
        },
        "id": "KgNFGQd8XqoY",
        "outputId": "609c2ac3-a250-497b-f78d-3d4e123720ce"
      },
      "source": [
        "is_divisible(2, 4)"
      ],
      "execution_count": 19,
      "outputs": [
        {
          "output_type": "execute_result",
          "data": {
            "text/plain": [
              "False"
            ]
          },
          "metadata": {
            "tags": []
          },
          "execution_count": 19
        }
      ]
    },
    {
      "cell_type": "code",
      "metadata": {
        "colab": {
          "base_uri": "https://localhost:8080/"
        },
        "id": "T8Q80Vx1Xql8",
        "outputId": "53b50153-bd96-41e1-e55c-c41db5a6c4e0"
      },
      "source": [
        "x=1\n",
        "y=2\n",
        "if x == y:\n",
        "    print (x, \"and\", y, \"are equal\")\n",
        "else:\n",
        "    if x < y:\n",
        "        print (x, \"is less than\", y)\n",
        "    else:\n",
        "        print (x, \"is greater than\", y)\n"
      ],
      "execution_count": 20,
      "outputs": [
        {
          "output_type": "stream",
          "text": [
            "1 is less than 2\n"
          ],
          "name": "stdout"
        }
      ]
    },
    {
      "cell_type": "code",
      "metadata": {
        "colab": {
          "base_uri": "https://localhost:8080/",
          "height": 130
        },
        "id": "E8xDPsE1Xqi2",
        "outputId": "78333bac-c668-4ddc-c62f-a72222b9d05f"
      },
      "source": [
        "'Unit 6'[-1]  '6'.\n",
        "\n"
      ],
      "execution_count": 22,
      "outputs": [
        {
          "output_type": "error",
          "ename": "SyntaxError",
          "evalue": "ignored",
          "traceback": [
            "\u001b[0;36m  File \u001b[0;32m\"<ipython-input-22-990d3873b6a2>\"\u001b[0;36m, line \u001b[0;32m1\u001b[0m\n\u001b[0;31m    'Unit 6'[-1] has value '6'.\u001b[0m\n\u001b[0m                   ^\u001b[0m\n\u001b[0;31mSyntaxError\u001b[0m\u001b[0;31m:\u001b[0m invalid syntax\n"
          ]
        }
      ]
    },
    {
      "cell_type": "code",
      "metadata": {
        "colab": {
          "base_uri": "https://localhost:8080/"
        },
        "id": "Wjl00mT0XqgO",
        "outputId": "87289449-c134-4fde-d990-fbdd04a68b85"
      },
      "source": [
        "percentage = float ( 60 * 100) / 55\n",
        "print (percentage)\n"
      ],
      "execution_count": 23,
      "outputs": [
        {
          "output_type": "stream",
          "text": [
            "109.0909090909091\n"
          ],
          "name": "stdout"
        }
      ]
    },
    {
      "cell_type": "code",
      "metadata": {
        "colab": {
          "base_uri": "https://localhost:8080/"
        },
        "id": "f7X9T_34XqdN",
        "outputId": "c3073225-5a07-4576-faa7-621b4adfcc43"
      },
      "source": [
        "x = 5\n",
        "if x % 2 == 0:\n",
        "    print (x)\n",
        "else:\n",
        "    print (x, x%2)"
      ],
      "execution_count": 24,
      "outputs": [
        {
          "output_type": "stream",
          "text": [
            "5 1\n"
          ],
          "name": "stdout"
        }
      ]
    },
    {
      "cell_type": "code",
      "metadata": {
        "colab": {
          "base_uri": "https://localhost:8080/"
        },
        "id": "ufggoUSjXqag",
        "outputId": "954d6619-5711-44f8-fb0a-91de8b37cf59"
      },
      "source": [
        "def area(l, w):\n",
        "    temp = l * w\n",
        "    return temp\n",
        "l = 4.0\n",
        "w = 3.25\n",
        "x = area(l, w)\n",
        "if ( x ):\n",
        "    print (x)"
      ],
      "execution_count": 25,
      "outputs": [
        {
          "output_type": "stream",
          "text": [
            "13.0\n"
          ],
          "name": "stdout"
        }
      ]
    },
    {
      "cell_type": "code",
      "metadata": {
        "colab": {
          "base_uri": "https://localhost:8080/"
        },
        "id": "J8lgxyypXqXX",
        "outputId": "7775a72a-94dc-4b84-ef08-a90528c69a48"
      },
      "source": [
        "if \"Ni!\":\n",
        "    print ('We are the Knights who say, \"Ni!\"')\n",
        "else:\n",
        "    print (\"Stop it! No more of this!\")"
      ],
      "execution_count": 26,
      "outputs": [
        {
          "output_type": "stream",
          "text": [
            "We are the Knights who say, \"Ni!\"\n"
          ],
          "name": "stdout"
        }
      ]
    },
    {
      "cell_type": "code",
      "metadata": {
        "colab": {
          "base_uri": "https://localhost:8080/"
        },
        "id": "mhHYUiBzXqUw",
        "outputId": "41033313-a2e6-4f83-ebc0-2d945b2b6160"
      },
      "source": [
        "isinstance(10.001, float)\n",
        "\n"
      ],
      "execution_count": 27,
      "outputs": [
        {
          "output_type": "execute_result",
          "data": {
            "text/plain": [
              "True"
            ]
          },
          "metadata": {
            "tags": []
          },
          "execution_count": 27
        }
      ]
    },
    {
      "cell_type": "code",
      "metadata": {
        "colab": {
          "base_uri": "https://localhost:8080/",
          "height": 181
        },
        "id": "EHe6yngOXqR4",
        "outputId": "767a4616-66f4-408f-d556-1de8f7ff19e2"
      },
      "source": [
        "s = \"Python3\"\n",
        "print(s[len(s)])"
      ],
      "execution_count": 28,
      "outputs": [
        {
          "output_type": "error",
          "ename": "IndexError",
          "evalue": "ignored",
          "traceback": [
            "\u001b[0;31m---------------------------------------------------------------------------\u001b[0m",
            "\u001b[0;31mIndexError\u001b[0m                                Traceback (most recent call last)",
            "\u001b[0;32m<ipython-input-28-77951fcea2be>\u001b[0m in \u001b[0;36m<module>\u001b[0;34m()\u001b[0m\n\u001b[1;32m      1\u001b[0m \u001b[0ms\u001b[0m \u001b[0;34m=\u001b[0m \u001b[0;34m\"Python3\"\u001b[0m\u001b[0;34m\u001b[0m\u001b[0;34m\u001b[0m\u001b[0m\n\u001b[0;32m----> 2\u001b[0;31m \u001b[0mprint\u001b[0m\u001b[0;34m(\u001b[0m\u001b[0ms\u001b[0m\u001b[0;34m[\u001b[0m\u001b[0mlen\u001b[0m\u001b[0;34m(\u001b[0m\u001b[0ms\u001b[0m\u001b[0;34m)\u001b[0m\u001b[0;34m]\u001b[0m\u001b[0;34m)\u001b[0m\u001b[0;34m\u001b[0m\u001b[0;34m\u001b[0m\u001b[0m\n\u001b[0m",
            "\u001b[0;31mIndexError\u001b[0m: string index out of range"
          ]
        }
      ]
    },
    {
      "cell_type": "code",
      "metadata": {
        "colab": {
          "base_uri": "https://localhost:8080/"
        },
        "id": "4X5FB6h6XqPI",
        "outputId": "2ade90be-2c18-4d60-fff9-1f056ef8d24a"
      },
      "source": [
        "n = 2\n",
        "n += 5\n",
        "n"
      ],
      "execution_count": 29,
      "outputs": [
        {
          "output_type": "execute_result",
          "data": {
            "text/plain": [
              "7"
            ]
          },
          "metadata": {
            "tags": []
          },
          "execution_count": 29
        }
      ]
    },
    {
      "cell_type": "code",
      "metadata": {
        "colab": {
          "base_uri": "https://localhost:8080/"
        },
        "id": "axCHmZ-gXqMY",
        "outputId": "1a0ebc50-bc3b-4d4a-ae26-9c4f86009b7b"
      },
      "source": [
        "n = 10000\n",
        "count = 0\n",
        "while n:\n",
        "    count = count + 1\n",
        "    n = n / 10\n",
        "    n=int(n)\n",
        "print(count)"
      ],
      "execution_count": 30,
      "outputs": [
        {
          "output_type": "stream",
          "text": [
            "5\n"
          ],
          "name": "stdout"
        }
      ]
    },
    {
      "cell_type": "code",
      "metadata": {
        "colab": {
          "base_uri": "https://localhost:8080/"
        },
        "id": "-4PidsURXqJj",
        "outputId": "27aa312e-3ee6-46e3-93e9-78082a7b2635"
      },
      "source": [
        "pi = int(3.14159)\n",
        "print (pi)"
      ],
      "execution_count": 31,
      "outputs": [
        {
          "output_type": "stream",
          "text": [
            "3\n"
          ],
          "name": "stdout"
        }
      ]
    },
    {
      "cell_type": "code",
      "metadata": {
        "colab": {
          "base_uri": "https://localhost:8080/"
        },
        "id": "pS3_S8z_XqGy",
        "outputId": "7817f86d-ea8a-4650-e6b1-afa4f9a98778"
      },
      "source": [
        "def function2(param):\n",
        "    print (param, param)\n",
        "def function1(part1, part2):\n",
        "    cat = part1 + part2\n",
        "    function2(cat)\n",
        "chant1 = \"See You \"\n",
        "chant2 = \"See Me \"\n",
        "function1(chant1, chant2)"
      ],
      "execution_count": 32,
      "outputs": [
        {
          "output_type": "stream",
          "text": [
            "See You See Me  See You See Me \n"
          ],
          "name": "stdout"
        }
      ]
    },
    {
      "cell_type": "code",
      "metadata": {
        "id": "69VY-uevXqED"
      },
      "source": [
        ""
      ],
      "execution_count": null,
      "outputs": []
    },
    {
      "cell_type": "code",
      "metadata": {
        "colab": {
          "base_uri": "https://localhost:8080/"
        },
        "id": "Roi0jZ2sXqBP",
        "outputId": "56fcaa53-e8a6-4b61-9f31-ebc47a60ba4b"
      },
      "source": [
        "[10, 20, 30]\n",
        "['crunchy frog', 'ram bladder', 'lark vomit']"
      ],
      "execution_count": 33,
      "outputs": [
        {
          "output_type": "execute_result",
          "data": {
            "text/plain": [
              "['crunchy frog', 'ram bladder', 'lark vomit']"
            ]
          },
          "metadata": {
            "tags": []
          },
          "execution_count": 33
        }
      ]
    },
    {
      "cell_type": "code",
      "metadata": {
        "colab": {
          "base_uri": "https://localhost:8080/"
        },
        "id": "NgW8Q3iOXp-2",
        "outputId": "e2b97e13-30c1-443e-9b07-9118b4d0b9bb"
      },
      "source": [
        "[10, 20, 30]"
      ],
      "execution_count": 34,
      "outputs": [
        {
          "output_type": "execute_result",
          "data": {
            "text/plain": [
              "[10, 20, 30]"
            ]
          },
          "metadata": {
            "tags": []
          },
          "execution_count": 34
        }
      ]
    },
    {
      "cell_type": "code",
      "metadata": {
        "colab": {
          "base_uri": "https://localhost:8080/"
        },
        "id": "6Y0wt3lZXp8X",
        "outputId": "4987400d-2fe1-4d1d-f1c5-950df084625b"
      },
      "source": [
        "['spam', 2.0, 5, [10, 20]]"
      ],
      "execution_count": 35,
      "outputs": [
        {
          "output_type": "execute_result",
          "data": {
            "text/plain": [
              "['spam', 2.0, 5, [10, 20]]"
            ]
          },
          "metadata": {
            "tags": []
          },
          "execution_count": 35
        }
      ]
    },
    {
      "cell_type": "code",
      "metadata": {
        "colab": {
          "base_uri": "https://localhost:8080/"
        },
        "id": "bFDt1jQ0iUm6",
        "outputId": "0ee73a20-7081-43de-bac8-d474d84444f6"
      },
      "source": [
        "cheeses = ['Cheddar', 'Edam', 'Gouda']\n",
        "numbers = [17, 324]\n",
        "empty = []\n",
        "print(cheeses, numbers, empty)"
      ],
      "execution_count": 37,
      "outputs": [
        {
          "output_type": "stream",
          "text": [
            "['Cheddar', 'Edam', 'Gouda'] [17, 324] []\n"
          ],
          "name": "stdout"
        }
      ]
    },
    {
      "cell_type": "code",
      "metadata": {
        "id": "Yk65E2XPi0Bi"
      },
      "source": [
        ""
      ],
      "execution_count": null,
      "outputs": []
    }
  ]
}