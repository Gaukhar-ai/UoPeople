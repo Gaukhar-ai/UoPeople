{
  "nbformat": 4,
  "nbformat_minor": 0,
  "metadata": {
    "colab": {
      "name": "Dictionary.ipynb",
      "provenance": [],
      "authorship_tag": "ABX9TyNERouWgQSLPrM6VS+u/j0F",
      "include_colab_link": true
    },
    "kernelspec": {
      "name": "python3",
      "display_name": "Python 3"
    },
    "language_info": {
      "name": "python"
    }
  },
  "cells": [
    {
      "cell_type": "markdown",
      "metadata": {
        "id": "view-in-github",
        "colab_type": "text"
      },
      "source": [
        "<a href=\"https://colab.research.google.com/github/Gaukhar-ai/UoPeople/blob/main/Dictionary.ipynb\" target=\"_parent\"><img src=\"https://colab.research.google.com/assets/colab-badge.svg\" alt=\"Open In Colab\"/></a>"
      ]
    },
    {
      "cell_type": "code",
      "metadata": {
        "id": "wz3ty9PB8iYt"
      },
      "source": [
        "al = {'color': 'green', 'points': 5}"
      ],
      "execution_count": 1,
      "outputs": []
    },
    {
      "cell_type": "markdown",
      "metadata": {
        "id": "R6Mjcofd9J16"
      },
      "source": [
        "#when an individual key is not in the dictionary it will give an error, I can use the get() method, which returns None. "
      ]
    },
    {
      "cell_type": "code",
      "metadata": {
        "colab": {
          "base_uri": "https://localhost:8080/"
        },
        "id": "UuIedbb28-BE",
        "outputId": "bef42e14-37c7-4bfd-aef5-3eb72a726eb9"
      },
      "source": [
        "print(al['color'])"
      ],
      "execution_count": 2,
      "outputs": [
        {
          "output_type": "stream",
          "text": [
            "green\n"
          ],
          "name": "stdout"
        }
      ]
    },
    {
      "cell_type": "code",
      "metadata": {
        "colab": {
          "base_uri": "https://localhost:8080/"
        },
        "id": "T47YXgPi9UgY",
        "outputId": "2e0431e1-9026-484d-e807-549737ad2b9d"
      },
      "source": [
        "print(al['points'])"
      ],
      "execution_count": 3,
      "outputs": [
        {
          "output_type": "stream",
          "text": [
            "5\n"
          ],
          "name": "stdout"
        }
      ]
    },
    {
      "cell_type": "code",
      "metadata": {
        "colab": {
          "base_uri": "https://localhost:8080/"
        },
        "id": "PGH79-3G9Wck",
        "outputId": "4dbb9215-7178-4956-948b-8534da2a5a8c"
      },
      "source": [
        "al_color = al.get('color')\n",
        "al_points = al.get('points', 0)\n",
        "print(al_color)\n",
        "print(al_points)"
      ],
      "execution_count": 5,
      "outputs": [
        {
          "output_type": "stream",
          "text": [
            "green\n",
            "5\n"
          ],
          "name": "stdout"
        }
      ]
    },
    {
      "cell_type": "markdown",
      "metadata": {
        "id": "rRsaPKJr9s4-"
      },
      "source": [
        "adding new key-value pairs"
      ]
    },
    {
      "cell_type": "code",
      "metadata": {
        "id": "W1HyXKQC9hu-"
      },
      "source": [
        "al['x'] = 0\n",
        "al['y'] = 25\n",
        "al['speed'] = 1.5"
      ],
      "execution_count": 6,
      "outputs": []
    },
    {
      "cell_type": "code",
      "metadata": {
        "id": "7uyM_ipA95Sl"
      },
      "source": [
        "#adding to an empty dict\n",
        "al = {}\n",
        "al['color'] = 'green'\n",
        "al['points'] = 5"
      ],
      "execution_count": 7,
      "outputs": []
    },
    {
      "cell_type": "code",
      "metadata": {
        "colab": {
          "base_uri": "https://localhost:8080/"
        },
        "id": "kpTxeVaa-EHs",
        "outputId": "18d9a1cc-08f1-4135-b9ee-11aa476f78d1"
      },
      "source": [
        "#modifying values\n",
        "al = {'color': 'green', 'points': 5}\n",
        "print(al)"
      ],
      "execution_count": 8,
      "outputs": [
        {
          "output_type": "stream",
          "text": [
            "{'color': 'green', 'points': 5}\n"
          ],
          "name": "stdout"
        }
      ]
    },
    {
      "cell_type": "code",
      "metadata": {
        "colab": {
          "base_uri": "https://localhost:8080/"
        },
        "id": "p-Bvzdx_-RIN",
        "outputId": "bf8bddde-16ad-4ba5-a2a3-4953958492f6"
      },
      "source": [
        "al['color'] = 'yellow'\n",
        "al['points'] = 10\n",
        "print(al)"
      ],
      "execution_count": 9,
      "outputs": [
        {
          "output_type": "stream",
          "text": [
            "{'color': 'yellow', 'points': 10}\n"
          ],
          "name": "stdout"
        }
      ]
    },
    {
      "cell_type": "code",
      "metadata": {
        "colab": {
          "base_uri": "https://localhost:8080/"
        },
        "id": "TtAF98KD-ZxW",
        "outputId": "913b7438-eb39-4d7c-cbaf-94d4c1325ceb"
      },
      "source": [
        "#removing key value pairs\n",
        "del al['points']\n",
        "print(al)"
      ],
      "execution_count": 10,
      "outputs": [
        {
          "output_type": "stream",
          "text": [
            "{'color': 'yellow'}\n"
          ],
          "name": "stdout"
        }
      ]
    },
    {
      "cell_type": "code",
      "metadata": {
        "id": "4tNdCYO2-oXi"
      },
      "source": [
        "#visualizing dict #pythontutor.com"
      ],
      "execution_count": 11,
      "outputs": []
    },
    {
      "cell_type": "code",
      "metadata": {
        "id": "AN4o6r5L-zLx"
      },
      "source": [
        "#looping through all key_value pairs\n",
        "#store people's fav languages.\n",
        "fav_languages = {\n",
        "    'jen': 'python',\n",
        "    'sarah': 'c',\n",
        "    'edward': 'ruby',\n",
        "    'phil': 'python'\n",
        "}"
      ],
      "execution_count": 14,
      "outputs": []
    },
    {
      "cell_type": "code",
      "metadata": {
        "colab": {
          "base_uri": "https://localhost:8080/"
        },
        "id": "gXAhnxcd_CqT",
        "outputId": "6c81c7ac-fba3-4d35-d244-c024012d4af8"
      },
      "source": [
        "for name, language in fav_languages.items():\n",
        "  print(name + ': ' + language)"
      ],
      "execution_count": 15,
      "outputs": [
        {
          "output_type": "stream",
          "text": [
            "jen: python\n",
            "sarah: c\n",
            "edward: ruby\n",
            "phil: python\n"
          ],
          "name": "stdout"
        }
      ]
    },
    {
      "cell_type": "code",
      "metadata": {
        "colab": {
          "base_uri": "https://localhost:8080/"
        },
        "id": "RBlIo4zv_Nyz",
        "outputId": "c7e30060-c3cd-42b5-c955-5b680d5c79c5"
      },
      "source": [
        "#looping through all the keys:\n",
        "#show everyone who's taken the survey:\n",
        "for name in fav_languages.keys():\n",
        "  print(name)"
      ],
      "execution_count": 16,
      "outputs": [
        {
          "output_type": "stream",
          "text": [
            "jen\n",
            "sarah\n",
            "edward\n",
            "phil\n"
          ],
          "name": "stdout"
        }
      ]
    },
    {
      "cell_type": "code",
      "metadata": {
        "colab": {
          "base_uri": "https://localhost:8080/"
        },
        "id": "kw9G9oh7_rCs",
        "outputId": "2cfb25c8-f594-41d4-d0ad-ea22b3bc9303"
      },
      "source": [
        "#looping through all the values:\n",
        "#show all the languages that have been chosen. \n",
        "for language  in fav_languages.values():\n",
        "  print(language)"
      ],
      "execution_count": 17,
      "outputs": [
        {
          "output_type": "stream",
          "text": [
            "python\n",
            "c\n",
            "ruby\n",
            "python\n"
          ],
          "name": "stdout"
        }
      ]
    },
    {
      "cell_type": "markdown",
      "metadata": {
        "id": "dC0D7x4EAOG1"
      },
      "source": [
        "Looping through all the keys in order"
      ]
    },
    {
      "cell_type": "code",
      "metadata": {
        "colab": {
          "base_uri": "https://localhost:8080/"
        },
        "id": "OVDZ-HKAABPu",
        "outputId": "ed100443-ca63-4a22-bdd6-73bd3e9099de"
      },
      "source": [
        "#show each persons fav language in order to the person's name:\n",
        "for name in sorted(fav_languages.keys()):\n",
        "  print(name + ': ' + language)"
      ],
      "execution_count": 18,
      "outputs": [
        {
          "output_type": "stream",
          "text": [
            "edward: python\n",
            "jen: python\n",
            "phil: python\n",
            "sarah: python\n"
          ],
          "name": "stdout"
        }
      ]
    },
    {
      "cell_type": "markdown",
      "metadata": {
        "id": "7vkzY2hIAsNX"
      },
      "source": [
        "Dictionary length"
      ]
    },
    {
      "cell_type": "code",
      "metadata": {
        "colab": {
          "base_uri": "https://localhost:8080/"
        },
        "id": "XvBFY51LAeUW",
        "outputId": "771f4d9d-ce90-447b-cd74-74f4a80d19cd"
      },
      "source": [
        "num_responses = len(fav_languages)\n",
        "num_responses"
      ],
      "execution_count": 20,
      "outputs": [
        {
          "output_type": "execute_result",
          "data": {
            "text/plain": [
              "4"
            ]
          },
          "metadata": {
            "tags": []
          },
          "execution_count": 20
        }
      ]
    },
    {
      "cell_type": "code",
      "metadata": {
        "id": "GMIn6BiFAw9w"
      },
      "source": [
        ""
      ],
      "execution_count": null,
      "outputs": []
    }
  ]
}