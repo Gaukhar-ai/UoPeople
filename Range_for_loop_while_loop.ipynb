{
  "nbformat": 4,
  "nbformat_minor": 0,
  "metadata": {
    "colab": {
      "name": "Range_for.loop.while.loop.ipynb",
      "provenance": [],
      "authorship_tag": "ABX9TyMUoqFkXW+zNtUYi0Y1k9u8",
      "include_colab_link": true
    },
    "kernelspec": {
      "name": "python3",
      "display_name": "Python 3"
    },
    "language_info": {
      "name": "python"
    }
  },
  "cells": [
    {
      "cell_type": "markdown",
      "metadata": {
        "id": "view-in-github",
        "colab_type": "text"
      },
      "source": [
        "<a href=\"https://colab.research.google.com/github/Gaukhar-ai/UoPeople/blob/main/Range_for_loop_while_loop.ipynb\" target=\"_parent\"><img src=\"https://colab.research.google.com/assets/colab-badge.svg\" alt=\"Open In Colab\"/></a>"
      ]
    },
    {
      "cell_type": "code",
      "metadata": {
        "colab": {
          "base_uri": "https://localhost:8080/"
        },
        "id": "aa65vPwLnCS0",
        "outputId": "38ab4144-ad8c-4560-8e23-03efbf6c4f3f"
      },
      "source": [
        "range(6)"
      ],
      "execution_count": 1,
      "outputs": [
        {
          "output_type": "execute_result",
          "data": {
            "text/plain": [
              "range(0, 6)"
            ]
          },
          "metadata": {
            "tags": []
          },
          "execution_count": 1
        }
      ]
    },
    {
      "cell_type": "code",
      "metadata": {
        "colab": {
          "base_uri": "https://localhost:8080/"
        },
        "id": "-dJxZviqnH0m",
        "outputId": "9c6e141c-1328-4491-833b-cd8e5936ddfe"
      },
      "source": [
        "range(7)"
      ],
      "execution_count": 2,
      "outputs": [
        {
          "output_type": "execute_result",
          "data": {
            "text/plain": [
              "range(0, 7)"
            ]
          },
          "metadata": {
            "tags": []
          },
          "execution_count": 2
        }
      ]
    },
    {
      "cell_type": "code",
      "metadata": {
        "colab": {
          "base_uri": "https://localhost:8080/"
        },
        "id": "1LQAEA6inKLi",
        "outputId": "6e0b20bb-a09e-427a-869c-934d896eb11a"
      },
      "source": [
        "range(1, 7)"
      ],
      "execution_count": 3,
      "outputs": [
        {
          "output_type": "execute_result",
          "data": {
            "text/plain": [
              "range(1, 7)"
            ]
          },
          "metadata": {
            "tags": []
          },
          "execution_count": 3
        }
      ]
    },
    {
      "cell_type": "code",
      "metadata": {
        "colab": {
          "base_uri": "https://localhost:8080/"
        },
        "id": "9BAm6yxSnM6i",
        "outputId": "f21a59c4-bd92-4ffc-9d57-fa452881c789"
      },
      "source": [
        "range(3, 31, 3)"
      ],
      "execution_count": 14,
      "outputs": [
        {
          "output_type": "execute_result",
          "data": {
            "text/plain": [
              "range(3, 31, 3)"
            ]
          },
          "metadata": {
            "tags": []
          },
          "execution_count": 14
        }
      ]
    },
    {
      "cell_type": "code",
      "metadata": {
        "colab": {
          "base_uri": "https://localhost:8080/"
        },
        "id": "V182aZs5nlAm",
        "outputId": "f2e72303-aac6-4345-919d-6326cf607b81"
      },
      "source": [
        "sum = 0\n",
        "for i in range(10):\n",
        "  sum = sum + i\n",
        "  print(i)"
      ],
      "execution_count": 15,
      "outputs": [
        {
          "output_type": "stream",
          "text": [
            "0\n",
            "1\n",
            "2\n",
            "3\n",
            "4\n",
            "5\n",
            "6\n",
            "7\n",
            "8\n",
            "9\n"
          ],
          "name": "stdout"
        }
      ]
    },
    {
      "cell_type": "markdown",
      "metadata": {
        "id": "rsuJRG4mxu0M"
      },
      "source": [
        "this while loop calculates the sum of 0 through 9 (including 9) and places it in the var 'sum'"
      ]
    },
    {
      "cell_type": "code",
      "metadata": {
        "colab": {
          "base_uri": "https://localhost:8080/"
        },
        "id": "BwHHBM0WnnqF",
        "outputId": "dfb6c12d-0f27-43cc-abcd-716bcd87e92c"
      },
      "source": [
        "sum = 0\n",
        "i = 0\n",
        "while i<10:\n",
        "  sum = sum + i\n",
        "  print(sum)\n",
        "  i = i + 1"
      ],
      "execution_count": 20,
      "outputs": [
        {
          "output_type": "stream",
          "text": [
            "0\n",
            "1\n",
            "3\n",
            "6\n",
            "10\n",
            "15\n",
            "21\n",
            "28\n",
            "36\n",
            "45\n"
          ],
          "name": "stdout"
        }
      ]
    },
    {
      "cell_type": "code",
      "metadata": {
        "colab": {
          "base_uri": "https://localhost:8080/"
        },
        "id": "dMlHMiUnx2QG",
        "outputId": "a59d5160-75a4-4eaa-810a-6f3ad30787cd"
      },
      "source": [
        "for i in range(10):\n",
        "  sum = sum + i\n",
        "  print(sum)"
      ],
      "execution_count": 21,
      "outputs": [
        {
          "output_type": "stream",
          "text": [
            "45\n",
            "46\n",
            "48\n",
            "51\n",
            "55\n",
            "60\n",
            "66\n",
            "73\n",
            "81\n",
            "90\n"
          ],
          "name": "stdout"
        }
      ]
    },
    {
      "cell_type": "code",
      "metadata": {
        "id": "vSQBlU57yDgw"
      },
      "source": [
        ""
      ],
      "execution_count": null,
      "outputs": []
    }
  ]
}