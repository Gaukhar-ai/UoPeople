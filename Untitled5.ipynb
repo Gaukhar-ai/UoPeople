{
  "nbformat": 4,
  "nbformat_minor": 0,
  "metadata": {
    "colab": {
      "name": "Untitled5.ipynb",
      "provenance": [],
      "authorship_tag": "ABX9TyNv/JSCJ5ZCIlTuDGrHT3mL",
      "include_colab_link": true
    },
    "kernelspec": {
      "name": "python3",
      "display_name": "Python 3"
    },
    "language_info": {
      "name": "python"
    }
  },
  "cells": [
    {
      "cell_type": "markdown",
      "metadata": {
        "id": "view-in-github",
        "colab_type": "text"
      },
      "source": [
        "<a href=\"https://colab.research.google.com/github/Gaukhar-ai/UoPeople/blob/main/Untitled5.ipynb\" target=\"_parent\"><img src=\"https://colab.research.google.com/assets/colab-badge.svg\" alt=\"Open In Colab\"/></a>"
      ]
    },
    {
      "cell_type": "code",
      "metadata": {
        "id": "c8VNZysp9tWM"
      },
      "source": [
        "a = 'I love reading books and watching movies. My favorite book is Alchemist.'   'My favorite movie is Gattaka'"
      ],
      "execution_count": null,
      "outputs": []
    },
    {
      "cell_type": "code",
      "metadata": {
        "colab": {
          "base_uri": "https://localhost:8080/",
          "height": 35
        },
        "id": "VdjbL55q-ffe",
        "outputId": "ed60eacb-e955-47c1-853b-35e8d4813ed4"
      },
      "source": [
        "a"
      ],
      "execution_count": null,
      "outputs": [
        {
          "output_type": "execute_result",
          "data": {
            "application/vnd.google.colaboratory.intrinsic+json": {
              "type": "string"
            },
            "text/plain": [
              "'I love reading books and watching movies. My favorite book is Alchemist.My favorite movie is Gattaka'"
            ]
          },
          "metadata": {
            "tags": []
          },
          "execution_count": 35
        }
      ]
    },
    {
      "cell_type": "code",
      "metadata": {
        "colab": {
          "base_uri": "https://localhost:8080/"
        },
        "id": "XeE-cUyEBPLW",
        "outputId": "0d7bdb21-7404-44aa-cff7-bb82ab1284ad"
      },
      "source": [
        "def convert(a):\n",
        "    return ' '.join(a).split()\n",
        "      \n",
        "  \n",
        "# Driver code\n",
        "a =  ['I love reading books and watching movies. My favorite book is Alchemist.'   'My favorite movie is Gattaka']\n",
        "print( convert(a))"
      ],
      "execution_count": null,
      "outputs": [
        {
          "output_type": "stream",
          "text": [
            "['I', 'love', 'reading', 'books', 'and', 'watching', 'movies.', 'My', 'favorite', 'book', 'is', 'Alchemist.My', 'favorite', 'movie', 'is', 'Gattaka']\n"
          ],
          "name": "stdout"
        }
      ]
    },
    {
      "cell_type": "code",
      "metadata": {
        "id": "iKyNDOUTBlA7"
      },
      "source": [
        "a = ['I', 'love', 'reading', 'books', 'and', 'watching', 'movies.', 'My', 'favorite', 'book', 'is', 'Alchemist.My', 'favorite', 'movie', 'is', 'Gattaka']\n"
      ],
      "execution_count": null,
      "outputs": []
    },
    {
      "cell_type": "code",
      "metadata": {
        "id": "1OJPS4-5FW-3"
      },
      "source": [
        "a = b"
      ],
      "execution_count": null,
      "outputs": []
    },
    {
      "cell_type": "code",
      "metadata": {
        "colab": {
          "base_uri": "https://localhost:8080/",
          "height": 35
        },
        "id": "JAoL4fcFFYnE",
        "outputId": "cb33ed85-4ae7-48ef-f207-3d01f59252d3"
      },
      "source": [
        "b"
      ],
      "execution_count": null,
      "outputs": [
        {
          "output_type": "execute_result",
          "data": {
            "application/vnd.google.colaboratory.intrinsic+json": {
              "type": "string"
            },
            "text/plain": [
              "'I love reading books and watching movies. My favorite book is Alchemistand My favorite movie is Gattaka'"
            ]
          },
          "metadata": {
            "tags": []
          },
          "execution_count": 57
        }
      ]
    },
    {
      "cell_type": "code",
      "metadata": {
        "colab": {
          "base_uri": "https://localhost:8080/",
          "height": 35
        },
        "id": "JAD5ERbaBujd",
        "outputId": "08907b4e-3ee1-4ad9-b5e0-327e59efca63"
      },
      "source": [
        "a.pop(1)"
      ],
      "execution_count": null,
      "outputs": [
        {
          "output_type": "execute_result",
          "data": {
            "application/vnd.google.colaboratory.intrinsic+json": {
              "type": "string"
            },
            "text/plain": [
              "'love'"
            ]
          },
          "metadata": {
            "tags": []
          },
          "execution_count": 41
        }
      ]
    },
    {
      "cell_type": "code",
      "metadata": {
        "colab": {
          "base_uri": "https://localhost:8080/"
        },
        "id": "7vx5g9CvCTCN",
        "outputId": "cbbe5367-44f5-47ad-c7fe-6cc274436379"
      },
      "source": [
        "del a[3]\n",
        "print(a)"
      ],
      "execution_count": null,
      "outputs": [
        {
          "output_type": "stream",
          "text": [
            "['I', 'reading', 'books', 'movies.', 'My', 'favorite', 'book', 'is', 'Alchemist.My', 'favorite', 'movie', 'is', 'Gattaka']\n"
          ],
          "name": "stdout"
        }
      ]
    },
    {
      "cell_type": "code",
      "metadata": {
        "id": "3SR1DW2iChQ8"
      },
      "source": [
        "#3rd method. I'm sure I could do something simpler or find a way to remove it easy. But this is what I could come up with for the 3rd example.\n",
        "def delete_head(a):\n",
        "  del a[0]"
      ],
      "execution_count": null,
      "outputs": []
    },
    {
      "cell_type": "code",
      "metadata": {
        "colab": {
          "base_uri": "https://localhost:8080/"
        },
        "id": "TqZ_i_QCC6u2",
        "outputId": "5e22c0f3-6a7e-4452-8217-4042402be8ed"
      },
      "source": [
        "a = ['I', 'reading', 'books', 'movies.', 'My', 'favorite', 'book', 'is', 'Alchemist.My', 'favorite', 'movie', 'is', 'Gattaka']\n",
        "delete_head(a)\n",
        "print(a)"
      ],
      "execution_count": null,
      "outputs": [
        {
          "output_type": "stream",
          "text": [
            "['reading', 'books', 'movies.', 'My', 'favorite', 'book', 'is', 'Alchemist.My', 'favorite', 'movie', 'is', 'Gattaka']\n"
          ],
          "name": "stdout"
        }
      ]
    },
    {
      "cell_type": "code",
      "metadata": {
        "colab": {
          "base_uri": "https://localhost:8080/"
        },
        "id": "IQ7UUO-L-qp6",
        "outputId": "ceda8d1f-9590-4029-8d10-25bb11b99b95"
      },
      "source": [
        "# I also tried this method first when I read about split method on a space. But somehow it didn't work out the way I wanted it, when \n",
        "#I printed 'a'. The output was as a string still. \n",
        "b = a\n",
        "delimiter = ' '\n",
        "a.split(delimiter)\n"
      ],
      "execution_count": null,
      "outputs": [
        {
          "output_type": "execute_result",
          "data": {
            "text/plain": [
              "['I',\n",
              " 'love',\n",
              " 'reading',\n",
              " 'books',\n",
              " 'and',\n",
              " 'watching',\n",
              " 'movies.',\n",
              " 'My',\n",
              " 'favorite',\n",
              " 'book',\n",
              " 'is',\n",
              " 'Alchemistand',\n",
              " 'My',\n",
              " 'favorite',\n",
              " 'movie',\n",
              " 'is',\n",
              " 'Gattaka']"
            ]
          },
          "metadata": {
            "tags": []
          },
          "execution_count": 19
        }
      ]
    },
    {
      "cell_type": "code",
      "metadata": {
        "colab": {
          "base_uri": "https://localhost:8080/"
        },
        "id": "gJDDWcL1Aq58",
        "outputId": "a73ff376-19dc-43d3-ea47-1579550d6209"
      },
      "source": [
        "#wow, this option is cool, actually. Never knew it can sort in this way. I mean I knew about 'sort' function but I guess never paid attention to it. \n",
        "#looking at it from a new and fresh perspective, lol. \n",
        "a.sort()\n",
        "print(a)"
      ],
      "execution_count": null,
      "outputs": [
        {
          "output_type": "stream",
          "text": [
            "['Alchemist.My', 'Gattaka', 'My', 'book', 'books', 'favorite', 'favorite', 'is', 'is', 'movie', 'movies.', 'reading']\n"
          ],
          "name": "stdout"
        }
      ]
    },
    {
      "cell_type": "code",
      "metadata": {
        "id": "SEd_Qp_FEK-K"
      },
      "source": [
        "#Add new words to the list (three or more) using three different kinds of Python operation. \n",
        "a.append('also, I like listening to music')"
      ],
      "execution_count": null,
      "outputs": []
    },
    {
      "cell_type": "code",
      "metadata": {
        "colab": {
          "base_uri": "https://localhost:8080/"
        },
        "id": "CV9_ls3tEK7H",
        "outputId": "b8cd9559-c413-4630-d8ea-9230a54b3170"
      },
      "source": [
        "a\n",
        "#coooool. very cool. I'm shaking my head literally, saying: \"how cool it is\"!"
      ],
      "execution_count": null,
      "outputs": [
        {
          "output_type": "execute_result",
          "data": {
            "text/plain": [
              "['Alchemist.My',\n",
              " 'Gattaka',\n",
              " 'My',\n",
              " 'book',\n",
              " 'books',\n",
              " 'favorite',\n",
              " 'favorite',\n",
              " 'is',\n",
              " 'is',\n",
              " 'movie',\n",
              " 'movies.',\n",
              " 'reading',\n",
              " 'also, I like listening to music']"
            ]
          },
          "metadata": {
            "tags": []
          },
          "execution_count": 52
        }
      ]
    },
    {
      "cell_type": "code",
      "metadata": {
        "colab": {
          "base_uri": "https://localhost:8080/",
          "height": 35
        },
        "id": "JZwp4zFzEK4Y",
        "outputId": "2ac71b91-e3a0-43a7-dd4a-377592c693d6"
      },
      "source": [
        "#Turn the list of words back into a single string using join. \n",
        "#a.join - I tried this first, but it's not that easy and simple, I should add something else:\n",
        "delimiter = ' '\n",
        "delimiter.join(a)"
      ],
      "execution_count": null,
      "outputs": [
        {
          "output_type": "execute_result",
          "data": {
            "application/vnd.google.colaboratory.intrinsic+json": {
              "type": "string"
            },
            "text/plain": [
              "'Alchemist.My Gattaka My book books favorite favorite is is movie movies. reading also, I like listening to music'"
            ]
          },
          "metadata": {
            "tags": []
          },
          "execution_count": 55
        }
      ]
    },
    {
      "cell_type": "markdown",
      "metadata": {
        "id": "uKJNpTTqFJde"
      },
      "source": [
        "Wait a minute, why did it output like this, in a sorted manner?! Strange. Can I actually put it back together to the original version?"
      ]
    },
    {
      "cell_type": "code",
      "metadata": {
        "colab": {
          "base_uri": "https://localhost:8080/",
          "height": 52
        },
        "id": "rbYCyie7EKf9",
        "outputId": "d946259e-73de-4877-8408-72ce2875270b"
      },
      "source": [
        "delimiter = ' '\n",
        "delimiter.join(b)\n",
        "#wow, so what I did is the trick, I went back to the top and made a copy of the original variable a to b. So it will be easier to put it back together. \n",
        "#but they look so apart from each other. I'm not sure if its considered as cheating, if it does, please lmk. I'll find some other ways to join it. "
      ],
      "execution_count": null,
      "outputs": [
        {
          "output_type": "execute_result",
          "data": {
            "application/vnd.google.colaboratory.intrinsic+json": {
              "type": "string"
            },
            "text/plain": [
              "'I   l o v e   r e a d i n g   b o o k s   a n d   w a t c h i n g   m o v i e s .   M y   f a v o r i t e   b o o k   i s   A l c h e m i s t a n d   M y   f a v o r i t e   m o v i e   i s   G a t t a k a'"
            ]
          },
          "metadata": {
            "tags": []
          },
          "execution_count": 58
        }
      ]
    },
    {
      "cell_type": "code",
      "metadata": {
        "colab": {
          "base_uri": "https://localhost:8080/",
          "height": 35
        },
        "id": "a_qXMEYdF4Zt",
        "outputId": "3ad54024-b7bf-4701-d92f-e01dbd851776"
      },
      "source": [
        "delimiter = ''\n",
        "delimiter.join(b)\n",
        "#now it's better, I put quotes close to each other. "
      ],
      "execution_count": null,
      "outputs": [
        {
          "output_type": "execute_result",
          "data": {
            "application/vnd.google.colaboratory.intrinsic+json": {
              "type": "string"
            },
            "text/plain": [
              "'I love reading books and watching movies. My favorite book is Alchemistand My favorite movie is Gattaka'"
            ]
          },
          "metadata": {
            "tags": []
          },
          "execution_count": 60
        }
      ]
    },
    {
      "cell_type": "code",
      "metadata": {
        "colab": {
          "base_uri": "https://localhost:8080/",
          "height": 35
        },
        "id": "TdiQFmGa-rrC",
        "outputId": "c39bee58-68c5-45a0-f726-a00c393cb9b1"
      },
      "source": [
        "#Print the string. \n",
        "b"
      ],
      "execution_count": null,
      "outputs": [
        {
          "output_type": "execute_result",
          "data": {
            "application/vnd.google.colaboratory.intrinsic+json": {
              "type": "string"
            },
            "text/plain": [
              "'I love reading books and watching movies. My favorite book is Alchemistand My favorite movie is Gattaka'"
            ]
          },
          "metadata": {
            "tags": []
          },
          "execution_count": 62
        }
      ]
    },
    {
      "cell_type": "code",
      "metadata": {
        "id": "sTanEbNn_ne2"
      },
      "source": [
        "#Part 2"
      ],
      "execution_count": null,
      "outputs": []
    },
    {
      "cell_type": "code",
      "metadata": {
        "id": "cGwBs2MO_nb8"
      },
      "source": [
        "#nested lists:\n",
        "books = ['Lincoln Biography', [1], \"I'm also reading Angela Merkel\", ['number 1 woman in politics']]"
      ],
      "execution_count": null,
      "outputs": []
    },
    {
      "cell_type": "code",
      "metadata": {
        "colab": {
          "base_uri": "https://localhost:8080/"
        },
        "id": "N_-cnVYx_nZH",
        "outputId": "970357a2-c460-402e-fefa-326283387d01"
      },
      "source": [
        "books"
      ],
      "execution_count": null,
      "outputs": [
        {
          "output_type": "execute_result",
          "data": {
            "text/plain": [
              "['Lincoln Biography',\n",
              " [1],\n",
              " \"I'm also reading Angela Merkel\",\n",
              " ['number 1 woman in politics']]"
            ]
          },
          "metadata": {
            "tags": []
          },
          "execution_count": 64
        }
      ]
    },
    {
      "cell_type": "code",
      "metadata": {
        "colab": {
          "base_uri": "https://localhost:8080/"
        },
        "id": "h1eTlzIL_nWV",
        "outputId": "6845463e-6560-4774-cf5e-d925650afdda"
      },
      "source": [
        "['I wish I could improve my speed 5 times']*5"
      ],
      "execution_count": null,
      "outputs": [
        {
          "output_type": "execute_result",
          "data": {
            "text/plain": [
              "['I wish I could improve my speed 5 times',\n",
              " 'I wish I could improve my speed 5 times',\n",
              " 'I wish I could improve my speed 5 times',\n",
              " 'I wish I could improve my speed 5 times',\n",
              " 'I wish I could improve my speed 5 times']"
            ]
          },
          "metadata": {
            "tags": []
          },
          "execution_count": 68
        }
      ]
    },
    {
      "cell_type": "code",
      "metadata": {
        "colab": {
          "base_uri": "https://localhost:8080/"
        },
        "id": "y14wUmid_nTd",
        "outputId": "3fdec5ba-5b85-4a7a-e486-2282997198af"
      },
      "source": [
        "#list slices:\n",
        "#in this example I tried to use negative numbers [-1:-3], since I thought it's going to count from the end, but got only this []\n",
        "reading = ['I', 'am', 'fine', 'though', 'anyways', 'wanna', 'be', 'better']\n",
        "reading[5:8]"
      ],
      "execution_count": null,
      "outputs": [
        {
          "output_type": "execute_result",
          "data": {
            "text/plain": [
              "['wanna', 'be', 'better']"
            ]
          },
          "metadata": {
            "tags": []
          },
          "execution_count": 78
        }
      ]
    },
    {
      "cell_type": "code",
      "metadata": {
        "colab": {
          "base_uri": "https://localhost:8080/"
        },
        "id": "BIYAUwDZIuGM",
        "outputId": "26faeba0-63d9-4516-cbc7-06152078699a"
      },
      "source": [
        "#wow, this is fantastic! I can't comprehend it all right away, but I'm learning. So much you can do with programming. \n",
        "#lists are very powerful, they're also mutable, right. let's just check:\n",
        "q = [3, 5]\n",
        "q1  = q + ['seven']\n",
        "q1"
      ],
      "execution_count": null,
      "outputs": [
        {
          "output_type": "execute_result",
          "data": {
            "text/plain": [
              "[3, 5, 'seven']"
            ]
          },
          "metadata": {
            "tags": []
          },
          "execution_count": 79
        }
      ]
    },
    {
      "cell_type": "code",
      "metadata": {
        "id": "DB4F2Buf_nQl"
      },
      "source": [
        "q[0] = 1"
      ],
      "execution_count": null,
      "outputs": []
    },
    {
      "cell_type": "code",
      "metadata": {
        "colab": {
          "base_uri": "https://localhost:8080/"
        },
        "id": "gMVOt2NL_nNl",
        "outputId": "406c6f69-f951-4821-97fe-e05d3df47b71"
      },
      "source": [
        "q"
      ],
      "execution_count": null,
      "outputs": [
        {
          "output_type": "execute_result",
          "data": {
            "text/plain": [
              "[1, 5]"
            ]
          },
          "metadata": {
            "tags": []
          },
          "execution_count": 81
        }
      ]
    },
    {
      "cell_type": "code",
      "metadata": {
        "id": "c6-7KqoN_nIG"
      },
      "source": [
        "#OMG! wow, it worked! So lists are mutable, and it can be so easily done!"
      ],
      "execution_count": null,
      "outputs": []
    },
    {
      "cell_type": "code",
      "metadata": {
        "colab": {
          "base_uri": "https://localhost:8080/",
          "height": 215
        },
        "id": "ckXR8FOCJ0gE",
        "outputId": "d73cef3d-592c-4649-a023-99ef30682e70"
      },
      "source": [
        "#I didn't quite get the += thing, let me try this one more time:\n",
        "a = 8\n",
        "b = 8\n",
        "a + b\n",
        "total +=x\n",
        "#ups, didn't work"
      ],
      "execution_count": null,
      "outputs": [
        {
          "output_type": "error",
          "ename": "NameError",
          "evalue": "ignored",
          "traceback": [
            "\u001b[0;31m---------------------------------------------------------------------------\u001b[0m",
            "\u001b[0;31mNameError\u001b[0m                                 Traceback (most recent call last)",
            "\u001b[0;32m<ipython-input-87-d7e43998d32d>\u001b[0m in \u001b[0;36m<module>\u001b[0;34m()\u001b[0m\n\u001b[1;32m      3\u001b[0m \u001b[0mb\u001b[0m \u001b[0;34m=\u001b[0m \u001b[0;36m8\u001b[0m\u001b[0;34m\u001b[0m\u001b[0;34m\u001b[0m\u001b[0m\n\u001b[1;32m      4\u001b[0m \u001b[0ma\u001b[0m \u001b[0;34m+\u001b[0m \u001b[0mb\u001b[0m\u001b[0;34m\u001b[0m\u001b[0;34m\u001b[0m\u001b[0m\n\u001b[0;32m----> 5\u001b[0;31m \u001b[0mtotal\u001b[0m \u001b[0;34m+=\u001b[0m\u001b[0mx\u001b[0m\u001b[0;34m\u001b[0m\u001b[0;34m\u001b[0m\u001b[0m\n\u001b[0m\u001b[1;32m      6\u001b[0m \u001b[0;31m#ups, didn't work\u001b[0m\u001b[0;34m\u001b[0m\u001b[0;34m\u001b[0m\u001b[0;34m\u001b[0m\u001b[0m\n",
            "\u001b[0;31mNameError\u001b[0m: name 'total' is not defined"
          ]
        }
      ]
    },
    {
      "cell_type": "code",
      "metadata": {
        "colab": {
          "base_uri": "https://localhost:8080/"
        },
        "id": "YEPY4icNKlaz",
        "outputId": "f582e93a-3900-4c2e-ef2f-3b27dc1ca8eb"
      },
      "source": [
        "q = 3 \n",
        "\n",
        "q += 2 \n",
        "\n",
        "print(q) \n",
        "#oh my gosh! So crazy! how is it even possible, this is crazy! So q = 3, and q = 2, and to find q there's a + sign. It says add them then output the answer?!\n",
        "#blows me away. I could show off my programming skills by typing this simple addition that looks super confusing, haha. "
      ],
      "execution_count": null,
      "outputs": [
        {
          "output_type": "stream",
          "text": [
            "5\n"
          ],
          "name": "stdout"
        }
      ]
    },
    {
      "cell_type": "code",
      "metadata": {
        "id": "wjU_u0U4_nEx"
      },
      "source": [
        "def only_lower(m):\n",
        "  res = []\n",
        "  for i in m:\n",
        "    if i.isupper():\n",
        "      res.append(i)\n",
        "  return res"
      ],
      "execution_count": null,
      "outputs": []
    },
    {
      "cell_type": "code",
      "metadata": {
        "colab": {
          "base_uri": "https://localhost:8080/"
        },
        "id": "Y-LwU2j-JnXo",
        "outputId": "9e2ebe5f-fd4c-45ea-c134-90ebc9b61582"
      },
      "source": [
        "only_lower('Mamatai, Keldim')"
      ],
      "execution_count": null,
      "outputs": [
        {
          "output_type": "execute_result",
          "data": {
            "text/plain": [
              "['M', 'K']"
            ]
          },
          "metadata": {
            "tags": []
          },
          "execution_count": 95
        }
      ]
    },
    {
      "cell_type": "code",
      "metadata": {
        "id": "alIYT2kFMFZu"
      },
      "source": [
        "#ah I see, I thought it's gonna hold on to lower cases, so vise versa, it's taking out Upper cases. Interesting. \n",
        "#I gotta work on it more to understand the concept and apply it practically. "
      ],
      "execution_count": null,
      "outputs": []
    },
    {
      "cell_type": "code",
      "metadata": {
        "colab": {
          "base_uri": "https://localhost:8080/"
        },
        "id": "RIDnteJrMWS2",
        "outputId": "10b80d32-420f-4c64-97cd-74c211c7a0a5"
      },
      "source": [
        "def delete_head(b):\n",
        "  b = b[1:]\n",
        "#so it executes, but I guess the function doesn't work right. Let me see though..\n",
        "b"
      ],
      "execution_count": null,
      "outputs": [
        {
          "output_type": "execute_result",
          "data": {
            "text/plain": [
              "8"
            ]
          },
          "metadata": {
            "tags": []
          },
          "execution_count": 100
        }
      ]
    },
    {
      "cell_type": "code",
      "metadata": {
        "id": "ttaTOycWMuHJ"
      },
      "source": [
        "#Hm.. doesn't make sence, so I guess it's wrong, since I had to get the string or a list, right. I'll work on it more. "
      ],
      "execution_count": null,
      "outputs": []
    },
    {
      "cell_type": "code",
      "metadata": {
        "id": "Cml6NXx8NIaX"
      },
      "source": [
        ""
      ],
      "execution_count": null,
      "outputs": []
    }
  ]
}